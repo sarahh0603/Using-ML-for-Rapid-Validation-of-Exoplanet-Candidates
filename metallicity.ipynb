{
 "cells": [
  {
   "cell_type": "code",
   "execution_count": 2,
   "id": "36adc911",
   "metadata": {},
   "outputs": [
    {
     "name": "stdout",
     "output_type": "stream",
     "text": [
      "Libraries imported successfully!\n"
     ]
    }
   ],
   "source": [
    "from astroquery.simbad import Simbad\n",
    "import pandas as pd\n",
    "import numpy as np\n",
    "from astropy.coordinates import SkyCoord\n",
    "from astropy import units as u\n",
    "from tqdm import tqdm\n",
    "\n",
    "print(\"Libraries imported successfully!\")\n",
    "\n",
    "Simbad.TIMEOUT = 1200\n",
    "Simbad.ROW_LIMIT = -1\n",
    "Simbad.add_votable_fields('ids')"
   ]
  },
  {
   "cell_type": "code",
   "execution_count": 3,
   "id": "5a89aea4",
   "metadata": {},
   "outputs": [],
   "source": [
    "def fetch_gaia_source_id_with_target_identifiers(target_ids):\n",
    "    \"\"\"Query directly Gaia DR3 source_id with tid\n",
    "\n",
    "    Parameters:\n",
    "    target_ids (array-like): star identifiers\n",
    "\n",
    "    return:\n",
    "    gaia_source_id (array-like): Gaia DR3 source_id\n",
    "\n",
    "    \"\"\"\n",
    "    s = Simbad.query_objects(target_ids)\n",
    "    gaia_source_id = np.full(len(target_ids), np.nan).astype(object)\n",
    "    if s is None:\n",
    "        print(\"No results found for the provided target identifiers.\")\n",
    "        return gaia_source_id\n",
    "    \n",
    "    for i in s:\n",
    "        ids = i['ids'].split('|')\n",
    "        index = i['object_number_id']-1\n",
    "        for jd in ids:\n",
    "            if 'Gaia DR3' in jd:\n",
    "                gaia_source_id[index] = jd\n",
    "    return gaia_source_id"
   ]
  },
  {
   "cell_type": "code",
   "execution_count": 4,
   "id": "3bddde2c",
   "metadata": {},
   "outputs": [
    {
     "name": "stdout",
     "output_type": "stream",
     "text": [
      "The Gaia archive will be intermittently unavailable from 08:00 to 09:00 on Monday, September 1st, as a result of scheduled maintenance (the deployment of a new version).\n"
     ]
    }
   ],
   "source": [
    "from astroquery.mast import Catalogs\n",
    "from astroquery.gaia import Gaia\n",
    "import numpy as np\n",
    "import pandas as pd\n",
    "from astropy.table import Table\n",
    "from astroquery import log\n",
    "\n",
    "log.setLevel('ERROR')\n",
    "\n",
    "class ResolveTIC:\n",
    "    \"\"\"A class to resolve TIC IDs to Gaia DR3 source IDs.\n",
    "    This class provides methods to cross-match TIC IDs with Gaia DR3 data in two steps:\n",
    "    1. Cross-match TIC IDs to Gaia DR2 source IDs.\n",
    "    2. Cross-match Gaia DR2 source IDs to Gaia DR3 source IDs.\n",
    "    \"\"\"\n",
    "    def __init__(self, tic_id):\n",
    "        self.tic_id = tic_id\n",
    "\n",
    "    def cross_match_tic_to_gaia_dr3(self) -> pd.DataFrame:\n",
    "        if isinstance(self.tic_id, (str, int)):\n",
    "            self.tic_id = [self.tic_id]\n",
    "\n",
    "        if len(self.tic_id) == 0:\n",
    "            raise ValueError(\"No TIC ID provided.\")\n",
    "\n",
    "        # Check for NaN values in the input list\n",
    "        if any(pd.isna(self.tic_id)):\n",
    "            raise ValueError(\"NaN values found in the input list.\")\n",
    "\n",
    "        # Remove 'TIC' prefix from TIC IDs, if present\n",
    "        self.tic_id = np.core.defchararray.replace(np.array(self.tic_id, dtype=str), 'TIC ', '').tolist()\n",
    "\n",
    "        gaia_dr2_ids = self._get_gaia_dr2_id_from_tic_id()\n",
    "        dr2_neighbours = self._cross_match_gaia_dr2_to_dr3(gaia_dr2_ids['GAIA'])\n",
    "        gaia_dr3_ids = self._find_best_neighbour_in_dr3_for_dr2(dr2_neighbours)\n",
    "        \n",
    "        # merge the two tables on the 'GAIA' and 'dr2_source_id' columns\n",
    "        # return the merged table\n",
    "        gaia_dr2_df = gaia_dr2_ids.to_pandas().astype({'ID':'Int64', 'GAIA':'Int64'})       \n",
    "\n",
    "        gaia_dr3_df = gaia_dr3_ids.to_pandas().astype({'dr2_source_id':'Int64', 'dr3_source_id':'Int64', 'angular_distance':'float64'})\n",
    "        gaia_dr3_df['dr3_source_id'] = 'Gaia DR3 ' + gaia_dr3_df['dr3_source_id'].astype(str)\n",
    "        merged_table = pd.merge(gaia_dr2_df, gaia_dr3_df, left_on='GAIA', right_on='dr2_source_id', how='left')\n",
    "        merged_table.rename(columns={'ID':'TIC'}, inplace=True)\n",
    "        \n",
    "        merged_table = merged_table.merge(pd.DataFrame(self.tic_id, columns=['TIC'], dtype='Int64'), on='TIC', how='right')\n",
    "        # merged_table.to_csv('tests/data/1_3_tabel_with_TIC_dr2_dr3_ids_from_reolvetic_module.txt', index=False)\n",
    "        return merged_table\n",
    "    \n",
    "    def _get_gaia_dr2_id_from_tic_id(self) -> Table:\n",
    "        obs_table = Catalogs.query_criteria(ID=self.tic_id,catalog=\"Tic\") # pylint:disable=no-member\n",
    "        return obs_table['ID', 'GAIA']\n",
    "\n",
    "    def _cross_match_gaia_dr2_to_dr3(self, dr2_source_ids) -> Table:\n",
    "        \"\"\"\n",
    "        Cross-match a list of Gaia DR2 source IDs to their corresponding Gaia DR3 source IDs.\n",
    "\n",
    "        Parameters:\n",
    "        - dr2_source_ids: List or numpy array of Gaia DR2 source IDs.\n",
    "        - angular_distance: Search radius in arcseconds (default is 1.0\").\n",
    "\n",
    "        Returns:\n",
    "        - matched_dr3_ids: Dictionary mapping DR2 source IDs to lists of matched DR3 source IDs.\n",
    "        \"\"\"\n",
    "        # Ensure input is a numpy array for easy indexing\n",
    "        dr2_source_ids = np.array(dr2_source_ids)\n",
    "\n",
    "        # Initialize Gaia TAP service\n",
    "        # Gaia.MAIN_SERVICE = \"https://gaia.ari.uni-heidelberg.de/tap\"\n",
    "\n",
    "        if isinstance(dr2_source_ids, (str, int)):\n",
    "            dr2_source_ids = [dr2_source_ids]\n",
    "\n",
    "        # Handle cases where there are no valid source IDs\n",
    "        valid_ids = []\n",
    "        for x in dr2_source_ids:\n",
    "            if isinstance(x, str):\n",
    "                try:\n",
    "                    int(x)\n",
    "                    valid_ids.append(str(int(x)))\n",
    "                except ValueError:\n",
    "                    # If conversion to int fails, skip this ID\n",
    "                    continue\n",
    "            elif isinstance(x, (int, np.integer)):\n",
    "                valid_ids.append(str(x))\n",
    "        # valid_ids = [str(int(x)) for x in dr2_source_ids if pd.notna(x)]\n",
    "        if len(valid_ids) == 0:\n",
    "            return Table(names=['dr2_source_id', 'dr3_source_id', 'angular_distance'], dtype=['int64', 'int64', 'float64'])\n",
    "\n",
    "        # SQL Query\n",
    "        query = f\"\"\"\n",
    "        SELECT dr2_source_id, dr3_source_id, angular_distance\n",
    "        FROM gaiadr3.dr2_neighbourhood\n",
    "        WHERE dr2_source_id IN ({\", \".join(valid_ids)})\n",
    "        \"\"\"\n",
    "\n",
    "        job = Gaia.launch_job_async(query)\n",
    "        dr3_sources = job.get_results()\n",
    "        return dr3_sources\n",
    "\n",
    "    def _find_best_neighbour_in_dr3_for_dr2(self, dr2_neighbours: Table) -> Table:\n",
    "        \"\"\"\n",
    "        Find the best match in Gaia DR3 for a list of Gaia DR2 neighbours.\n",
    "\n",
    "        Parameters:\n",
    "        - dr2_neighbours: Table containing Gaia DR2 neighbours, containing columns 'dr2_source_id', 'dr3_source_id', and 'angular_distance'.\n",
    "\n",
    "        Returns:\n",
    "        - matched_dr3_ids: Table containing the best match in DR3 for each DR2 neighbour.\n",
    "        \"\"\"\n",
    "        # Group the DR2 neighbours by DR2 source ID\n",
    "        dr2_groups = dr2_neighbours.group_by('dr2_source_id')\n",
    "\n",
    "        # Initialize an empty table to store the best matches\n",
    "        best_matches = Table(names=['dr2_source_id', 'dr3_source_id', 'angular_distance'], dtype=['int64', 'int64', 'float64'])\n",
    "\n",
    "        # Iterate over each group of DR2 neighbours\n",
    "        for group in dr2_groups.groups:\n",
    "            # Find the index of the minimum angular distance\n",
    "            min_dist_idx = np.argmin(group['angular_distance'])\n",
    "\n",
    "            # Append the best match to the results table\n",
    "            best_matches.add_row(group[min_dist_idx])\n",
    "\n",
    "        return best_matches"
   ]
  },
  {
   "cell_type": "markdown",
   "id": "88c4d81f",
   "metadata": {},
   "source": [
    "# STEP 1. Get Gaia DR3 ID directly"
   ]
  },
  {
   "cell_type": "code",
   "execution_count": 5,
   "id": "3c7b2faa",
   "metadata": {},
   "outputs": [
    {
     "name": "stdout",
     "output_type": "stream",
     "text": [
      "Querying 7658 stars for Gaia DR3 source IDs...\n",
      "--------------------------------------------------\n",
      "end= 5433 stars with Gaia DR3 source IDs\n"
     ]
    }
   ],
   "source": [
    "toi_data = pd.read_csv('TOI_2025.08.02_05.03.17.csv', comment='#')\n",
    "\n",
    "# add prefix 'TOI' to each id of tid column\n",
    "star_names = ['TIC ' + str(tid) for tid in toi_data['tid']]\n",
    "\n",
    "print(f\"Querying {len(star_names)} stars for Gaia DR3 source IDs...\")\n",
    "print(\"-\" * 50)\n",
    "\n",
    "# Fetch Gaia source IDs for the target identifiers\n",
    "gaia_source_ids = fetch_gaia_source_id_with_target_identifiers(star_names)\n",
    "\n",
    "toi_data['gaia_source_id'] = gaia_source_ids\n",
    "print(f\"end= {len(toi_data[toi_data['gaia_source_id'].notna()])} stars with Gaia DR3 source IDs\")"
   ]
  },
  {
   "cell_type": "markdown",
   "id": "2aba7302",
   "metadata": {},
   "source": [
    "# STEP2. Get Gaia DR3 ID using Gaia DR2 as bridge"
   ]
  },
  {
   "cell_type": "code",
   "execution_count": 6,
   "id": "bf13f15d",
   "metadata": {},
   "outputs": [],
   "source": [
    "# Filter out stars without Gaia DR3 source IDs\n",
    "index_toi_without_gaia = toi_data.index[toi_data['gaia_source_id'].isna()]\n",
    "\n",
    "toi_data['tid'] = star_names"
   ]
  },
  {
   "cell_type": "code",
   "execution_count": 7,
   "id": "786d141b",
   "metadata": {},
   "outputs": [
    {
     "name": "stdout",
     "output_type": "stream",
     "text": [
      "Resolving 2225 stars without Gaia DR3 source IDs...\n",
      "Matching TIC to Gaia DR2, then to Gaia DR3...\n"
     ]
    }
   ],
   "source": [
    "print(f\"Resolving {len(index_toi_without_gaia)} stars without Gaia DR3 source IDs...\")\n",
    "print(\"Matching TIC to Gaia DR2, then to Gaia DR3...\")\n",
    "returned_df = ResolveTIC(toi_data.loc[index_toi_without_gaia, 'tid']).cross_match_tic_to_gaia_dr3()\n",
    "toi_data.loc[index_toi_without_gaia, 'gaia_source_id'] = returned_df['dr3_source_id'].values"
   ]
  },
  {
   "cell_type": "code",
   "execution_count": 8,
   "id": "9e7ecaa8",
   "metadata": {},
   "outputs": [
    {
     "name": "stdout",
     "output_type": "stream",
     "text": [
      "In the end, 7639 out of 7658 stars with Gaia DR3 source IDs\n"
     ]
    }
   ],
   "source": [
    "print(f\"In the end, {len(toi_data[toi_data['gaia_source_id'].notna()])} out of {len(toi_data)} stars with Gaia DR3 source IDs\")"
   ]
  },
  {
   "cell_type": "markdown",
   "id": "68227845",
   "metadata": {},
   "source": [
    "# STEP 3. Get Apogee [Fe/H]"
   ]
  },
  {
   "cell_type": "code",
   "execution_count": 9,
   "id": "f19bfe19",
   "metadata": {},
   "outputs": [
    {
     "name": "stdout",
     "output_type": "stream",
     "text": [
      "Number of stars with Apogee [Fe/H]: 420\n",
      "Number of stars with Apogee [Fe/H] flag is 0 (good): 412\n",
      "Number of stars with Apogee [Fe/H]: 473\n"
     ]
    }
   ],
   "source": [
    "import pyvo\n",
    "\n",
    "service_url = \"https://datalab.noirlab.edu/tap\"\n",
    "\n",
    "svc = pyvo.dal.TAPService(service_url)\n",
    "svc.TIMEOUT = 1200\n",
    "\n",
    "gaia_id_only_digits = toi_data['gaia_source_id'].dropna().drop_duplicates().str.replace('Gaia DR3 ', '', regex=False).values\n",
    "adql = f\"\"\" \n",
    "select gaiaedr3_source_id, fe_h, fe_h_flag\n",
    "from sdss_dr17.apogee2_allstar\n",
    "where gaiaedr3_source_id in ({\", \".join(gaia_id_only_digits)})\n",
    "\"\"\"\n",
    "job = svc.submit_job(adql, maxrec=None)\n",
    "job.run()\n",
    "job.wait(phases=[\"COMPLETED\", \"ERROR\", \"ABORTED\"], timeout=3600)\n",
    "if job.phase == \"COMPLETED\":\n",
    "    apogee_result = job.fetch_result()\n",
    "\n",
    "apogee_result = apogee_result.to_table().to_pandas().drop_duplicates(subset='gaiaedr3_source_id')\n",
    "apogee_result['gaiaedr3_source_id'] = 'Gaia DR3 ' + apogee_result['gaiaedr3_source_id'].astype(str)\n",
    "print(f\"Number of stars with Apogee [Fe/H]: {apogee_result['fe_h'].notna().sum()}\")\n",
    "print(f\"Number of stars with Apogee [Fe/H] flag is 0 (good): {((apogee_result['fe_h_flag'] == 0) & (apogee_result['fe_h'].notna())).sum()}\")\n",
    "\n",
    "# remove rows where fe_h_flag is not 0\n",
    "apogee_result = apogee_result[(apogee_result['fe_h_flag'] == 0) & (apogee_result['fe_h'].notna())]\n",
    "\n",
    "toi_data_with_apogee = toi_data.merge(apogee_result, left_on='gaia_source_id', right_on='gaiaedr3_source_id', how='left')\n",
    "toi_data_with_apogee = toi_data_with_apogee.rename(columns={'fe_h': 'fe_h_apogee'})\n",
    "print(f\"Number of stars with Apogee [Fe/H]: {toi_data_with_apogee['fe_h_apogee'].notna().sum()}\")"
   ]
  },
  {
   "cell_type": "markdown",
   "id": "292e982e",
   "metadata": {},
   "source": [
    "# STEP 4. Get GALAH [Fe/H]"
   ]
  },
  {
   "cell_type": "code",
   "execution_count": 10,
   "id": "d04818bc",
   "metadata": {},
   "outputs": [
    {
     "name": "stdout",
     "output_type": "stream",
     "text": [
      "Filtered out 7185 stars without APOGEE [Fe/H]\n"
     ]
    }
   ],
   "source": [
    "# Filter out stars without APOGEE [Fe/H]\n",
    "index_toi_without_apogee_feh = toi_data_with_apogee.index[toi_data_with_apogee['fe_h_apogee'].isna()]\n",
    "print(f\"Filtered out {len(index_toi_without_apogee_feh)} stars without APOGEE [Fe/H]\")\n"
   ]
  },
  {
   "cell_type": "code",
   "execution_count": 11,
   "id": "d70afee0",
   "metadata": {},
   "outputs": [
    {
     "name": "stdout",
     "output_type": "stream",
     "text": [
      "Number of stars with Galah [Fe/H]: 322\n",
      "Number of stars with Galah [Fe/H] flag is 0 (good): 259\n",
      "Number of stars with Galah [Fe/H]: 275\n"
     ]
    }
   ],
   "source": [
    "# This server is hard to connect. You may need to try multiple times. It WILL eventually WORK.\n",
    "service_url = \"https://datacentral.org.au/vo/tap\"\n",
    "\n",
    "svc = pyvo.dal.TAPService(service_url)\n",
    "svc._session.timeout = (1200, 1200)\n",
    "gaia_id_only_digits = toi_data_with_apogee.loc[index_toi_without_apogee_feh, 'gaia_source_id'].dropna().drop_duplicates().str.replace('Gaia DR3 ', '', regex=False).values\n",
    "adql = f\"\"\" \n",
    "select gaiadr3_source_id, fe_h, flag_fe_h\n",
    "from galah_dr4.mainstartable\n",
    "where gaiadr3_source_id in ({\", \".join(gaia_id_only_digits)})\n",
    "\"\"\"\n",
    "job = svc.submit_job(adql, maxrec=None) # async\n",
    "job.run()\n",
    "job.wait(phases=[\"COMPLETED\", \"ERROR\", \"ABORTED\"], timeout=3600)\n",
    "if job.phase == \"COMPLETED\":\n",
    "    galah_result = job.fetch_result()\n",
    "\n",
    "# galah_result = svc.search(adql, maxrec=None) # sync\n",
    "\n",
    "galah_result = galah_result.to_table().to_pandas().drop_duplicates(subset='gaiadr3_source_id')\n",
    "galah_result['gaiadr3_source_id'] = 'Gaia DR3 ' + galah_result['gaiadr3_source_id'].astype(str)\n",
    "print(f\"Number of stars with Galah [Fe/H]: {galah_result['fe_h'].notna().sum()}\")\n",
    "print(f\"Number of stars with Galah [Fe/H] flag is 0 (good): {((galah_result['flag_fe_h'] == 0) & (galah_result['fe_h'].notna())).sum()}\")\n",
    "\n",
    "# remove rows where fe_h_flag is not 0\n",
    "galah_result = galah_result[(galah_result['flag_fe_h'] == 0) & (galah_result['fe_h'].notna())]\n",
    "\n",
    "toi_data_with_galah = toi_data_with_apogee.merge(galah_result, left_on='gaia_source_id', right_on='gaiadr3_source_id', how='left')\n",
    "toi_data_with_galah = toi_data_with_galah.rename(columns={'fe_h': 'fe_h_galah'})\n",
    "print(f\"Number of stars with Galah [Fe/H]: {toi_data_with_galah['fe_h_galah'].notna().sum()}\")\n"
   ]
  },
  {
   "cell_type": "code",
   "execution_count": 12,
   "id": "931513ea",
   "metadata": {},
   "outputs": [
    {
     "name": "stdout",
     "output_type": "stream",
     "text": [
      "Number of stars with either Apogee or Galah [Fe/H]: 748\n"
     ]
    }
   ],
   "source": [
    "print(f\"Number of stars with either Apogee or Galah [Fe/H]: {toi_data_with_galah['fe_h_apogee'].notna().sum() + toi_data_with_galah['fe_h_galah'].notna().sum()}\")"
   ]
  },
  {
   "cell_type": "markdown",
   "id": "4f39ff1f",
   "metadata": {},
   "source": [
    "# STEP 5. Get [Fe/H] Simbad (various sources)"
   ]
  },
  {
   "cell_type": "code",
   "execution_count": 13,
   "id": "2798d6d9",
   "metadata": {},
   "outputs": [
    {
     "name": "stdout",
     "output_type": "stream",
     "text": [
      "Available metallicity-related fields in SIMBAD:\n",
      "- mesfe_h.bibcode\n",
      "- mesfe_h.catno\n",
      "- mesfe_h.compstar\n",
      "- mesfe_h.fe_h\n",
      "- mesfe_h.fe_h_prec\n",
      "- mesfe_h.flag\n",
      "- mesfe_h.log_g\n",
      "- mesfe_h.log_g_prec\n",
      "- mesfe_h.mespos\n",
      "- mesfe_h.teff\n"
     ]
    }
   ],
   "source": [
    "# Configure SIMBAD to include metallicity measurements\n",
    "# Add Fe_H (metallicity) field to the query fields\n",
    "simbad = Simbad()\n",
    "simbad.add_votable_fields('ids', 'otype', 'mesfe_h')\n",
    "\n",
    "\n",
    "# Show available VOTable fields that include metallicity-related measurements\n",
    "print(\"Available metallicity-related fields in SIMBAD:\")\n",
    "available_fields = simbad.get_votable_fields()\n",
    "metallicity_fields = [field for field in available_fields if 'fe' in field.lower() or 'metal' in field.lower()]\n",
    "for field in metallicity_fields:\n",
    "    print(f\"- {field}\")"
   ]
  },
  {
   "cell_type": "code",
   "execution_count": 16,
   "id": "2b9534d2",
   "metadata": {},
   "outputs": [
    {
     "name": "stdout",
     "output_type": "stream",
     "text": [
      "Number of stars without Apogee and Galah [Fe/H]: 6910\n"
     ]
    }
   ],
   "source": [
    "# Filter out stars without Apogee and Galah [Fe/H]\n",
    "mask_toi_without_apogee_and_galah_feh = toi_data_with_galah['fe_h_apogee'].isna() & toi_data_with_galah['fe_h_galah'].isna()\n",
    "print(f\"Number of stars without Apogee and Galah [Fe/H]: {(mask_toi_without_apogee_and_galah_feh).sum()}\")"
   ]
  },
  {
   "cell_type": "code",
   "execution_count": 17,
   "id": "c52c24ca",
   "metadata": {},
   "outputs": [
    {
     "name": "stdout",
     "output_type": "stream",
     "text": [
      "Querying 7658 stars for metallicity data...\n",
      "--------------------------------------------------\n",
      "Successfully retrieved data for 14610 stars.\n"
     ]
    }
   ],
   "source": [
    "# add prefix 'TOI' to each id of tid column\n",
    "star_names = toi_data_with_galah['tid']\n",
    "\n",
    "print(f\"Querying {len(star_names)} stars for metallicity data...\")\n",
    "print(\"-\" * 50)\n",
    "\n",
    "results = simbad.query_objects(star_names)\n",
    "if results is not None:\n",
    "    print(f\"Successfully retrieved data for {len(results)} stars.\")"
   ]
  },
  {
   "cell_type": "code",
   "execution_count": 18,
   "id": "d4e919d4",
   "metadata": {},
   "outputs": [
    {
     "name": "stdout",
     "output_type": "stream",
     "text": [
      "Number of stars after removing duplicates: 7658\n"
     ]
    }
   ],
   "source": [
    "# Multiple metallicity measurements can be present, so we drop duplicates based on 'object_number_id' and keep the first occurrence\n",
    "results_no_duplicates = results.to_pandas().drop_duplicates(subset='object_number_id').reset_index(drop=True)\n",
    "print(f\"Number of stars after removing duplicates: {len(results_no_duplicates)}\")"
   ]
  },
  {
   "cell_type": "code",
   "execution_count": 19,
   "id": "8f7579e6",
   "metadata": {},
   "outputs": [
    {
     "name": "stdout",
     "output_type": "stream",
     "text": [
      "Number of stars with metallicity [Fe/H]: 1758\n"
     ]
    }
   ],
   "source": [
    "toi_data_final = toi_data_with_galah.copy()\n",
    "toi_data_final.loc[results_no_duplicates['object_number_id'] - 1, 'fe_h_simbad'] = results_no_duplicates['mesfe_h.fe_h'].values\n",
    "toi_data_final.loc[~mask_toi_without_apogee_and_galah_feh, 'fe_h_simbad'] = np.nan\n",
    "toi_data_final['fe_h'] = toi_data_final['fe_h_apogee'].combine_first(toi_data_final['fe_h_galah']).combine_first(toi_data_final['fe_h_simbad'])\n",
    "print(f\"Number of stars with metallicity [Fe/H]: {toi_data_final['fe_h'].notna().sum()}\")\n",
    "\n",
    "toi_data_final.drop(columns=['gaiadr3_source_id', 'gaiaedr3_source_id']).to_csv('TOI_2025.08.02_05.03.17_with_gaiaID_metallicity.csv', index=False)"
   ]
  },
  {
   "cell_type": "markdown",
   "id": "e5364341",
   "metadata": {},
   "source": [
    "# STEP 6. Get Gaia DR3 [M/H], distance and other parameters"
   ]
  },
  {
   "cell_type": "markdown",
   "id": "d619ab29",
   "metadata": {},
   "source": [
    "## 6.1 RVS spectra (GSP-Spec)"
   ]
  },
  {
   "cell_type": "code",
   "execution_count": 19,
   "id": "93df493c",
   "metadata": {},
   "outputs": [],
   "source": [
    "toi_data_final = pd.read_csv('TOI_2025.08.02_05.03.17_with_gaiaID_metallicity.csv', comment='#')"
   ]
  },
  {
   "cell_type": "code",
   "execution_count": 30,
   "id": "a6d7e993",
   "metadata": {},
   "outputs": [
    {
     "name": "stdout",
     "output_type": "stream",
     "text": [
      "Filtered out 5900 stars without [Fe/H]\n"
     ]
    }
   ],
   "source": [
    "index_toi_without_feh = toi_data_final.index[toi_data_final['fe_h'].isna()]\n",
    "print(f\"Filtered out {len(index_toi_without_feh)} stars without [Fe/H]\")\n",
    "\n",
    "gaia_id = toi_data_final.loc[index_toi_without_feh, 'gaia_source_id'].dropna().drop_duplicates()\n",
    "\n",
    "gaia_id = gaia_id.str.replace('Gaia DR3 ', '', regex=False).values\n",
    "\n",
    "parameter_query = (\"\"\"select sp.source_id, sp.mh_gspspec, sp.flags_gspspec, sp.logg_gspspec,\n",
    "                        r_med_geo, r_lo_geo, r_hi_geo\n",
    "                        FROM gaiadr3.astrophysical_parameters AS sp\n",
    "                        JOIN gaiadr3.gaia_source as g on sp.source_id = g.source_id\n",
    "                        JOIN external.gaiaedr3_distance as dist on g.source_id = dist.source_id \n",
    "                        where \n",
    "                        sp.source_id in (\"\"\"+(len(gaia_id)-1)*\"{},\"+\"{})\").format(*gaia_id)\n",
    "\n",
    "Gaia.MAIN_GAIA_TABLE = \"gaiadr3.gaia_source\"\n",
    "Gaia.ROW_LIMIT = -1\n",
    "\n",
    "job = Gaia.launch_job_async(parameter_query)\n",
    "r = job.get_results().to_pandas()"
   ]
  },
  {
   "cell_type": "code",
   "execution_count": 53,
   "id": "058de5e1",
   "metadata": {},
   "outputs": [
    {
     "name": "stdout",
     "output_type": "stream",
     "text": [
      "Number of stars with GSP-SPEC [M/H]: 1492\n"
     ]
    }
   ],
   "source": [
    "flags = r['flags_gspspec']\n",
    "\n",
    "# Check flags, ref source: Fig. 32 in https://www.aanda.org/articles/aa/pdf/2023/06/aa43790-22.pdf\n",
    "\n",
    "masks = []\n",
    "for i, flag in enumerate(flags):\n",
    "    if len(flag) < 1:\n",
    "        masks.append(False)\n",
    "        continue\n",
    "    # Check condition 1: positions 3, 6 are all 0\n",
    "    cond1 = flag[2] == \"0\" and flag[5] == \"0\"\n",
    "\n",
    "    # check condition 2: position 2, 5, 13 are all 0\n",
    "    cond2 = flag[1] == \"0\" and flag[4] == \"0\" and flag[12] == \"0\"\n",
    "\n",
    "    # Check condition 3: position 8 <= 2\n",
    "    cond3 = int(flag[7]) <= 2\n",
    "\n",
    "    if cond1 and cond3:\n",
    "        masks.append(True)\n",
    "    else:\n",
    "        masks.append(False)\n",
    "\n",
    "masks = np.array(masks)\n",
    "gspspec_results = r[masks].copy()\n",
    "\n",
    "print(f\"Number of stars with GSP-SPEC [M/H]: {gspspec_results['mh_gspspec'].notna().sum()}\")\n"
   ]
  },
  {
   "cell_type": "code",
   "execution_count": 54,
   "id": "06226e91",
   "metadata": {},
   "outputs": [
    {
     "name": "stdout",
     "output_type": "stream",
     "text": [
      "Number of stars with GSP-SPEC [M/H]: 1492\n"
     ]
    }
   ],
   "source": [
    "def calculate_calibrated_gspspec(row):\n",
    "    if row['logg_gspspec'] < 3.5:\n",
    "        return row['mh_gspspec'] + 0.274 - 0.1373 * row['logg_gspspec'] - 0.0050 * (row['logg_gspspec'] ** 2) + 0.0048 * (row['logg_gspspec'] ** 3)\n",
    "    else:\n",
    "        return row['mh_gspspec']\n",
    "\n",
    "# Apply the clibrations to GSP-SPEC [M/H]\n",
    "calibrated_gspspec = gspspec_results.apply(calculate_calibrated_gspspec, axis=1)\n",
    "gspspec_results['calibrated_gspspec'] = calibrated_gspspec\n",
    "\n",
    "print(f\"Number of stars with GSP-SPEC [M/H]: {gspspec_results['calibrated_gspspec'].notna().sum()}\")\n"
   ]
  },
  {
   "cell_type": "markdown",
   "id": "72af0dc6",
   "metadata": {},
   "source": [
    "## 6.2 GSP-PHOT"
   ]
  },
  {
   "cell_type": "code",
   "execution_count": 55,
   "id": "0674ea94",
   "metadata": {},
   "outputs": [],
   "source": [
    "gaia_id_without_gspspec = r[~masks]['source_id'].values\n",
    "\n",
    "parameter_query = (\"\"\"select sp.source_id, l, b, g.phot_g_mean_mag, g.mh_gspphot, g.teff_gspphot, g.logg_gspphot, g.azero_gspphot, g.ebpminrp_gspphot, g.ag_gspphot, \n",
    "                        sp.mg_gspphot, g.libname_gspphot, g.ruwe,\n",
    "                        r_med_geo, r_lo_geo, r_hi_geo\n",
    "                        FROM gaiadr3.astrophysical_parameters AS sp\n",
    "                        JOIN gaiadr3.gaia_source as g on sp.source_id = g.source_id\n",
    "                        JOIN external.gaiaedr3_distance as dist on g.source_id = dist.source_id \n",
    "                        where \n",
    "                        sp.source_id in (\"\"\"+(len(gaia_id_without_gspspec)-1)*\"{},\"+\"{})\").format(*gaia_id_without_gspspec)\n",
    "\n",
    "job = Gaia.launch_job_async(parameter_query)\n",
    "r1 = job.get_results().to_pandas()\n"
   ]
  },
  {
   "cell_type": "code",
   "execution_count": 56,
   "id": "6345bbbc",
   "metadata": {},
   "outputs": [
    {
     "name": "stdout",
     "output_type": "stream",
     "text": [
      "Number of stars with GSP-PHOT [M/H]: 2563\n"
     ]
    }
   ],
   "source": [
    "gspphot_results = r1[r1['ruwe'] <= 1.25].copy()\n",
    "\n",
    "print(f\"Number of stars with GSP-PHOT [M/H]: {gspphot_results['mh_gspphot'].notna().sum()}\")"
   ]
  },
  {
   "cell_type": "code",
   "execution_count": 57,
   "id": "58a450eb",
   "metadata": {},
   "outputs": [
    {
     "name": "stdout",
     "output_type": "stream",
     "text": [
      "Automatically adding \"cos(b)\" from \"b\" [assuming degrees].\n",
      "Automatically adding \"cos(b)\" from \"b\" [assuming degrees].\n",
      "Automatically adding \"cos(b)\" from \"b\" [assuming degrees].\n",
      "Automatically adding \"cos(b)\" from \"b\" [assuming degrees].\n"
     ]
    }
   ],
   "source": [
    "import gdr3apcal\n",
    "\n",
    "gspphot_results['calibrated_gspphot'] = np.nan\n",
    "mask_of_notna = gspphot_results['mh_gspphot'].notna()\n",
    "\n",
    "# Instantiate calibration object\n",
    "calib = gdr3apcal.GaiaDR3_GSPPhot_cal()\n",
    "# Apply calibrations to [M/H] and/or Teff, returning a numpy array of calibrated values.\n",
    "metal_calib = calib.calibrateMetallicity(gspphot_results[mask_of_notna].reset_index(drop=True))\n",
    "\n",
    "# Add the numpy array as a new column to the original DataFrame\n",
    "gspphot_results.loc[mask_of_notna, 'calibrated_gspphot'] = metal_calib"
   ]
  },
  {
   "cell_type": "markdown",
   "id": "bc61b299",
   "metadata": {},
   "source": [
    "## 6.3 Combine"
   ]
  },
  {
   "cell_type": "code",
   "execution_count": 58,
   "id": "f7de0f4e",
   "metadata": {},
   "outputs": [],
   "source": [
    "# combine gspspec and gspphot results\n",
    "gspspec_results = gspspec_results.rename(columns={'calibrated_gspspec': 'mh_gspspec_gaiadr3'})\n",
    "gspphot_results = gspphot_results.rename(columns={'calibrated_gspphot': 'mh_gspphot_gaiadr3'})\n",
    "\n",
    "# check if gspspec_results and gspphot_results have common source_id\n",
    "common_source_ids = set(gspspec_results['source_id']).intersection(set(gspphot_results['source_id']))\n",
    "if common_source_ids:\n",
    "    print(f\"Common source IDs found: {len(common_source_ids)}\")\n",
    "\n",
    "# Combine the two results, since no common source_id, we can use concat\n",
    "merged_results = pd.concat([gspspec_results, gspphot_results], axis=0, ignore_index=True)\n"
   ]
  },
  {
   "cell_type": "code",
   "execution_count": 59,
   "id": "ef0da1c6",
   "metadata": {},
   "outputs": [],
   "source": [
    "merged_results['source_id'] = 'Gaia DR3 ' + merged_results['source_id'].astype(str)"
   ]
  },
  {
   "cell_type": "code",
   "execution_count": 60,
   "id": "e9bb540c",
   "metadata": {},
   "outputs": [],
   "source": [
    "toi_data_final_with_gaia = toi_data_final.copy()\n",
    "toi_data_final_with_gaia = toi_data_final_with_gaia.merge(merged_results, left_on='gaia_source_id', right_on='source_id', how='left')"
   ]
  },
  {
   "cell_type": "code",
   "execution_count": 61,
   "id": "ced610c7",
   "metadata": {},
   "outputs": [],
   "source": [
    "toi_data_final_with_gaia['fe_h'] = toi_data_final_with_gaia['fe_h'].combine_first(toi_data_final_with_gaia['mh_gspspec_gaiadr3']).combine_first(toi_data_final_with_gaia['mh_gspphot_gaiadr3'])"
   ]
  },
  {
   "cell_type": "code",
   "execution_count": 62,
   "id": "6a5e6de2",
   "metadata": {},
   "outputs": [
    {
     "data": {
      "text/plain": [
       "2236"
      ]
     },
     "execution_count": 62,
     "metadata": {},
     "output_type": "execute_result"
    }
   ],
   "source": [
    "toi_data_final_with_gaia[mask_toi_without_apogee_and_galah_feh]['mh_gspphot_gaiadr3'].notna().sum()"
   ]
  },
  {
   "cell_type": "code",
   "execution_count": 101,
   "id": "29404dbf",
   "metadata": {},
   "outputs": [
    {
     "name": "stdout",
     "output_type": "stream",
     "text": [
      "Summary of metallicity data:\n",
      "Total number of stars with [Fe/H]: 5567\n",
      "--------------------------------------------------\n",
      "Total number of stars with Apogee [Fe/H]: 473\n",
      "Total number of stars with Galah [Fe/H]: 275\n",
      "Total number of stars with SIMBAD [Fe/H]: 1010\n",
      "Total number of stars with GSP-SPEC [M/H]: 1573\n",
      "Total number of stars with GSP-PHOT [M/H]: 2236\n"
     ]
    }
   ],
   "source": [
    "print('Summary of metallicity data:')\n",
    "print(f'Total number of stars with [Fe/H]: {toi_data_final_with_gaia[\"fe_h\"].notna().sum()}')\n",
    "print('-' * 50)\n",
    "print(f'Total number of stars with Apogee [Fe/H]: {toi_data_final_with_gaia[\"fe_h_apogee\"].notna().sum()}')\n",
    "print(f'Total number of stars with Galah [Fe/H]: {toi_data_final_with_gaia[\"fe_h_galah\"].notna().sum()}')\n",
    "print(f'Total number of stars with SIMBAD [Fe/H]: {toi_data_final_with_gaia[\"fe_h_simbad\"].notna().sum()}')\n",
    "print(f'Total number of stars with GSP-SPEC [M/H]: {toi_data_final_with_gaia[\"mh_gspspec_gaiadr3\"].notna().sum()}')\n",
    "print(f'Total number of stars with GSP-PHOT [M/H]: {toi_data_final_with_gaia[\"mh_gspphot_gaiadr3\"].notna().sum()}')\n"
   ]
  },
  {
   "cell_type": "code",
   "execution_count": 95,
   "id": "fe16c0b1",
   "metadata": {},
   "outputs": [],
   "source": [
    "cols1 = ['toi', 'tid', 'pl_orbper', 'pl_trandurh', 'pl_trandep', 'pl_rade', 'pl_eqt', 'pl_insol',\n",
    "         'st_teff', 'st_logg', 'st_rad', 'ra', 'dec', 'tfopwg_disp','fe_h', 'gaia_source_id']\n",
    "\n",
    "df = toi_data_final_with_gaia[cols1].copy()\n"
   ]
  },
  {
   "cell_type": "code",
   "execution_count": 99,
   "id": "0bae902d",
   "metadata": {},
   "outputs": [],
   "source": [
    "df = df.dropna()\n",
    "df.to_csv('output_data/TOI_2025.08.02_05.03.17_final.csv', index=False)"
   ]
  },
  {
   "cell_type": "code",
   "execution_count": 97,
   "id": "14c5b6c2",
   "metadata": {},
   "outputs": [
    {
     "data": {
      "text/html": [
       "<div>\n",
       "<style scoped>\n",
       "    .dataframe tbody tr th:only-of-type {\n",
       "        vertical-align: middle;\n",
       "    }\n",
       "\n",
       "    .dataframe tbody tr th {\n",
       "        vertical-align: top;\n",
       "    }\n",
       "\n",
       "    .dataframe thead th {\n",
       "        text-align: right;\n",
       "    }\n",
       "</style>\n",
       "<table border=\"1\" class=\"dataframe\">\n",
       "  <thead>\n",
       "    <tr style=\"text-align: right;\">\n",
       "      <th></th>\n",
       "      <th>toi</th>\n",
       "      <th>tid</th>\n",
       "      <th>pl_orbper</th>\n",
       "      <th>pl_trandurh</th>\n",
       "      <th>pl_trandep</th>\n",
       "      <th>pl_rade</th>\n",
       "      <th>pl_eqt</th>\n",
       "      <th>pl_insol</th>\n",
       "      <th>st_teff</th>\n",
       "      <th>st_logg</th>\n",
       "      <th>st_rad</th>\n",
       "      <th>ra</th>\n",
       "      <th>dec</th>\n",
       "      <th>tfopwg_disp</th>\n",
       "      <th>fe_h</th>\n",
       "      <th>gaia_source_id</th>\n",
       "    </tr>\n",
       "  </thead>\n",
       "  <tbody>\n",
       "    <tr>\n",
       "      <th>7</th>\n",
       "      <td>1007.01</td>\n",
       "      <td>TIC 65212867</td>\n",
       "      <td>6.998921</td>\n",
       "      <td>3.953000</td>\n",
       "      <td>2840.000000</td>\n",
       "      <td>14.775200</td>\n",
       "      <td>1282.000000</td>\n",
       "      <td>448.744000</td>\n",
       "      <td>6596.0</td>\n",
       "      <td>3.71000</td>\n",
       "      <td>2.700000</td>\n",
       "      <td>112.752393</td>\n",
       "      <td>-4.463359</td>\n",
       "      <td>PC</td>\n",
       "      <td>0.154000</td>\n",
       "      <td>Gaia DR3 3060208664203492992</td>\n",
       "    </tr>\n",
       "    <tr>\n",
       "      <th>10</th>\n",
       "      <td>101.01</td>\n",
       "      <td>TIC 231663901</td>\n",
       "      <td>1.430370</td>\n",
       "      <td>1.616599</td>\n",
       "      <td>18960.712294</td>\n",
       "      <td>13.187450</td>\n",
       "      <td>1525.904809</td>\n",
       "      <td>1281.240825</td>\n",
       "      <td>5600.0</td>\n",
       "      <td>4.48851</td>\n",
       "      <td>0.890774</td>\n",
       "      <td>318.737012</td>\n",
       "      <td>-55.871863</td>\n",
       "      <td>KP</td>\n",
       "      <td>-0.261609</td>\n",
       "      <td>Gaia DR3 6462994429708755072</td>\n",
       "    </tr>\n",
       "    <tr>\n",
       "      <th>12</th>\n",
       "      <td>1011.01</td>\n",
       "      <td>TIC 114018671</td>\n",
       "      <td>2.470498</td>\n",
       "      <td>2.191000</td>\n",
       "      <td>250.000000</td>\n",
       "      <td>1.446560</td>\n",
       "      <td>1364.000000</td>\n",
       "      <td>575.597000</td>\n",
       "      <td>5413.7</td>\n",
       "      <td>4.46000</td>\n",
       "      <td>0.940000</td>\n",
       "      <td>113.984761</td>\n",
       "      <td>-32.841999</td>\n",
       "      <td>PC</td>\n",
       "      <td>-0.110000</td>\n",
       "      <td>Gaia DR3 5592015297342611968</td>\n",
       "    </tr>\n",
       "    <tr>\n",
       "      <th>17</th>\n",
       "      <td>1016.01</td>\n",
       "      <td>TIC 175310067</td>\n",
       "      <td>12.688942</td>\n",
       "      <td>7.920100</td>\n",
       "      <td>3232.852788</td>\n",
       "      <td>14.060834</td>\n",
       "      <td>1158.131037</td>\n",
       "      <td>425.159418</td>\n",
       "      <td>7601.0</td>\n",
       "      <td>4.31000</td>\n",
       "      <td>1.536410</td>\n",
       "      <td>116.110771</td>\n",
       "      <td>-36.098285</td>\n",
       "      <td>FP</td>\n",
       "      <td>0.223936</td>\n",
       "      <td>Gaia DR3 5587573167284647296</td>\n",
       "    </tr>\n",
       "    <tr>\n",
       "      <th>19</th>\n",
       "      <td>1018.01</td>\n",
       "      <td>TIC 291555748</td>\n",
       "      <td>4.959120</td>\n",
       "      <td>2.509000</td>\n",
       "      <td>7440.000000</td>\n",
       "      <td>22.912300</td>\n",
       "      <td>1419.000000</td>\n",
       "      <td>673.550000</td>\n",
       "      <td>5889.0</td>\n",
       "      <td>3.86000</td>\n",
       "      <td>2.000000</td>\n",
       "      <td>111.716019</td>\n",
       "      <td>-50.266567</td>\n",
       "      <td>FP</td>\n",
       "      <td>-0.118993</td>\n",
       "      <td>Gaia DR3 5505717481529404416</td>\n",
       "    </tr>\n",
       "    <tr>\n",
       "      <th>...</th>\n",
       "      <td>...</td>\n",
       "      <td>...</td>\n",
       "      <td>...</td>\n",
       "      <td>...</td>\n",
       "      <td>...</td>\n",
       "      <td>...</td>\n",
       "      <td>...</td>\n",
       "      <td>...</td>\n",
       "      <td>...</td>\n",
       "      <td>...</td>\n",
       "      <td>...</td>\n",
       "      <td>...</td>\n",
       "      <td>...</td>\n",
       "      <td>...</td>\n",
       "      <td>...</td>\n",
       "      <td>...</td>\n",
       "    </tr>\n",
       "    <tr>\n",
       "      <th>7639</th>\n",
       "      <td>981.01</td>\n",
       "      <td>TIC 127476180</td>\n",
       "      <td>1.605559</td>\n",
       "      <td>2.253000</td>\n",
       "      <td>1168.000000</td>\n",
       "      <td>4.703080</td>\n",
       "      <td>2124.000000</td>\n",
       "      <td>3384.430000</td>\n",
       "      <td>6711.0</td>\n",
       "      <td>4.25000</td>\n",
       "      <td>1.480000</td>\n",
       "      <td>117.113226</td>\n",
       "      <td>-28.204828</td>\n",
       "      <td>FP</td>\n",
       "      <td>0.292080</td>\n",
       "      <td>Gaia DR3 5601388187294617856</td>\n",
       "    </tr>\n",
       "    <tr>\n",
       "      <th>7645</th>\n",
       "      <td>987.01</td>\n",
       "      <td>TIC 52548453</td>\n",
       "      <td>5.214676</td>\n",
       "      <td>4.983063</td>\n",
       "      <td>3754.150648</td>\n",
       "      <td>14.447677</td>\n",
       "      <td>1607.354148</td>\n",
       "      <td>1037.070000</td>\n",
       "      <td>6080.0</td>\n",
       "      <td>3.78000</td>\n",
       "      <td>2.270000</td>\n",
       "      <td>100.925700</td>\n",
       "      <td>-30.491967</td>\n",
       "      <td>FP</td>\n",
       "      <td>0.080000</td>\n",
       "      <td>Gaia DR3 5584423341345392896</td>\n",
       "    </tr>\n",
       "    <tr>\n",
       "      <th>7646</th>\n",
       "      <td>988.01</td>\n",
       "      <td>TIC 113553629</td>\n",
       "      <td>4.304380</td>\n",
       "      <td>3.037000</td>\n",
       "      <td>672.002000</td>\n",
       "      <td>13.756400</td>\n",
       "      <td>1319.000000</td>\n",
       "      <td>503.880000</td>\n",
       "      <td>6056.9</td>\n",
       "      <td>4.17000</td>\n",
       "      <td>4.820000</td>\n",
       "      <td>113.424039</td>\n",
       "      <td>-30.996054</td>\n",
       "      <td>FP</td>\n",
       "      <td>0.288790</td>\n",
       "      <td>Gaia DR3 5593167070135870080</td>\n",
       "    </tr>\n",
       "    <tr>\n",
       "      <th>7655</th>\n",
       "      <td>997.01</td>\n",
       "      <td>TIC 341729521</td>\n",
       "      <td>8.413486</td>\n",
       "      <td>3.556833</td>\n",
       "      <td>17479.605331</td>\n",
       "      <td>20.510696</td>\n",
       "      <td>857.731431</td>\n",
       "      <td>127.916421</td>\n",
       "      <td>5786.0</td>\n",
       "      <td>4.52000</td>\n",
       "      <td>0.926261</td>\n",
       "      <td>121.319521</td>\n",
       "      <td>-59.579798</td>\n",
       "      <td>FP</td>\n",
       "      <td>-0.480000</td>\n",
       "      <td>Gaia DR3 5291265022797336448</td>\n",
       "    </tr>\n",
       "    <tr>\n",
       "      <th>7657</th>\n",
       "      <td>999.01</td>\n",
       "      <td>TIC 341186896</td>\n",
       "      <td>1.507896</td>\n",
       "      <td>2.759000</td>\n",
       "      <td>1839.000000</td>\n",
       "      <td>5.530910</td>\n",
       "      <td>2762.000000</td>\n",
       "      <td>9662.800000</td>\n",
       "      <td>6635.0</td>\n",
       "      <td>4.35000</td>\n",
       "      <td>1.300000</td>\n",
       "      <td>118.864086</td>\n",
       "      <td>-58.222060</td>\n",
       "      <td>FP</td>\n",
       "      <td>-0.020000</td>\n",
       "      <td>Gaia DR3 5294452025969062400</td>\n",
       "    </tr>\n",
       "  </tbody>\n",
       "</table>\n",
       "<p>5182 rows × 16 columns</p>\n",
       "</div>"
      ],
      "text/plain": [
       "          toi            tid  pl_orbper  pl_trandurh    pl_trandep    pl_rade  \\\n",
       "7     1007.01   TIC 65212867   6.998921     3.953000   2840.000000  14.775200   \n",
       "10     101.01  TIC 231663901   1.430370     1.616599  18960.712294  13.187450   \n",
       "12    1011.01  TIC 114018671   2.470498     2.191000    250.000000   1.446560   \n",
       "17    1016.01  TIC 175310067  12.688942     7.920100   3232.852788  14.060834   \n",
       "19    1018.01  TIC 291555748   4.959120     2.509000   7440.000000  22.912300   \n",
       "...       ...            ...        ...          ...           ...        ...   \n",
       "7639   981.01  TIC 127476180   1.605559     2.253000   1168.000000   4.703080   \n",
       "7645   987.01   TIC 52548453   5.214676     4.983063   3754.150648  14.447677   \n",
       "7646   988.01  TIC 113553629   4.304380     3.037000    672.002000  13.756400   \n",
       "7655   997.01  TIC 341729521   8.413486     3.556833  17479.605331  20.510696   \n",
       "7657   999.01  TIC 341186896   1.507896     2.759000   1839.000000   5.530910   \n",
       "\n",
       "           pl_eqt     pl_insol  st_teff  st_logg    st_rad          ra  \\\n",
       "7     1282.000000   448.744000   6596.0  3.71000  2.700000  112.752393   \n",
       "10    1525.904809  1281.240825   5600.0  4.48851  0.890774  318.737012   \n",
       "12    1364.000000   575.597000   5413.7  4.46000  0.940000  113.984761   \n",
       "17    1158.131037   425.159418   7601.0  4.31000  1.536410  116.110771   \n",
       "19    1419.000000   673.550000   5889.0  3.86000  2.000000  111.716019   \n",
       "...           ...          ...      ...      ...       ...         ...   \n",
       "7639  2124.000000  3384.430000   6711.0  4.25000  1.480000  117.113226   \n",
       "7645  1607.354148  1037.070000   6080.0  3.78000  2.270000  100.925700   \n",
       "7646  1319.000000   503.880000   6056.9  4.17000  4.820000  113.424039   \n",
       "7655   857.731431   127.916421   5786.0  4.52000  0.926261  121.319521   \n",
       "7657  2762.000000  9662.800000   6635.0  4.35000  1.300000  118.864086   \n",
       "\n",
       "            dec tfopwg_disp      fe_h                gaia_source_id  \n",
       "7     -4.463359          PC  0.154000  Gaia DR3 3060208664203492992  \n",
       "10   -55.871863          KP -0.261609  Gaia DR3 6462994429708755072  \n",
       "12   -32.841999          PC -0.110000  Gaia DR3 5592015297342611968  \n",
       "17   -36.098285          FP  0.223936  Gaia DR3 5587573167284647296  \n",
       "19   -50.266567          FP -0.118993  Gaia DR3 5505717481529404416  \n",
       "...         ...         ...       ...                           ...  \n",
       "7639 -28.204828          FP  0.292080  Gaia DR3 5601388187294617856  \n",
       "7645 -30.491967          FP  0.080000  Gaia DR3 5584423341345392896  \n",
       "7646 -30.996054          FP  0.288790  Gaia DR3 5593167070135870080  \n",
       "7655 -59.579798          FP -0.480000  Gaia DR3 5291265022797336448  \n",
       "7657 -58.222060          FP -0.020000  Gaia DR3 5294452025969062400  \n",
       "\n",
       "[5182 rows x 16 columns]"
      ]
     },
     "execution_count": 97,
     "metadata": {},
     "output_type": "execute_result"
    }
   ],
   "source": [
    "df"
   ]
  },
  {
   "cell_type": "code",
   "execution_count": 87,
   "id": "d3373beb",
   "metadata": {},
   "outputs": [
    {
     "data": {
      "text/html": [
       "<div>\n",
       "<style scoped>\n",
       "    .dataframe tbody tr th:only-of-type {\n",
       "        vertical-align: middle;\n",
       "    }\n",
       "\n",
       "    .dataframe tbody tr th {\n",
       "        vertical-align: top;\n",
       "    }\n",
       "\n",
       "    .dataframe thead th {\n",
       "        text-align: right;\n",
       "    }\n",
       "</style>\n",
       "<table border=\"1\" class=\"dataframe\">\n",
       "  <thead>\n",
       "    <tr style=\"text-align: right;\">\n",
       "      <th></th>\n",
       "      <th>toi</th>\n",
       "      <th>tid</th>\n",
       "      <th>pl_orbper</th>\n",
       "      <th>pl_trandurh</th>\n",
       "      <th>pl_trandep</th>\n",
       "      <th>pl_rade</th>\n",
       "      <th>pl_eqt</th>\n",
       "      <th>pl_insol</th>\n",
       "      <th>st_teff</th>\n",
       "      <th>st_logg</th>\n",
       "      <th>st_rad</th>\n",
       "      <th>ra</th>\n",
       "      <th>dec</th>\n",
       "      <th>tfopwg_disp</th>\n",
       "      <th>fe_h</th>\n",
       "      <th>gaia_source_id</th>\n",
       "    </tr>\n",
       "  </thead>\n",
       "  <tbody>\n",
       "  </tbody>\n",
       "</table>\n",
       "</div>"
      ],
      "text/plain": [
       "Empty DataFrame\n",
       "Columns: [toi, tid, pl_orbper, pl_trandurh, pl_trandep, pl_rade, pl_eqt, pl_insol, st_teff, st_logg, st_rad, ra, dec, tfopwg_disp, fe_h, gaia_source_id]\n",
       "Index: []"
      ]
     },
     "execution_count": 87,
     "metadata": {},
     "output_type": "execute_result"
    }
   ],
   "source": [
    "df1[~df1.index.isin(df.index)]"
   ]
  },
  {
   "cell_type": "code",
   "execution_count": 86,
   "id": "76352982",
   "metadata": {},
   "outputs": [
    {
     "data": {
      "text/html": [
       "<div>\n",
       "<style scoped>\n",
       "    .dataframe tbody tr th:only-of-type {\n",
       "        vertical-align: middle;\n",
       "    }\n",
       "\n",
       "    .dataframe tbody tr th {\n",
       "        vertical-align: top;\n",
       "    }\n",
       "\n",
       "    .dataframe thead th {\n",
       "        text-align: right;\n",
       "    }\n",
       "</style>\n",
       "<table border=\"1\" class=\"dataframe\">\n",
       "  <thead>\n",
       "    <tr style=\"text-align: right;\">\n",
       "      <th></th>\n",
       "      <th>toi</th>\n",
       "      <th>tid</th>\n",
       "      <th>pl_orbper</th>\n",
       "      <th>pl_trandurh</th>\n",
       "      <th>pl_trandep</th>\n",
       "      <th>pl_rade</th>\n",
       "      <th>pl_eqt</th>\n",
       "      <th>pl_insol</th>\n",
       "      <th>st_teff</th>\n",
       "      <th>st_logg</th>\n",
       "      <th>st_rad</th>\n",
       "      <th>ra</th>\n",
       "      <th>dec</th>\n",
       "      <th>tfopwg_disp</th>\n",
       "      <th>fe_h</th>\n",
       "      <th>gaia_source_id</th>\n",
       "    </tr>\n",
       "  </thead>\n",
       "  <tbody>\n",
       "    <tr>\n",
       "      <th>7</th>\n",
       "      <td>1007.01</td>\n",
       "      <td>TIC 65212867</td>\n",
       "      <td>6.998921</td>\n",
       "      <td>3.953000</td>\n",
       "      <td>2840.000000</td>\n",
       "      <td>14.775200</td>\n",
       "      <td>1282.000000</td>\n",
       "      <td>448.744000</td>\n",
       "      <td>6596.0</td>\n",
       "      <td>3.71000</td>\n",
       "      <td>2.700000</td>\n",
       "      <td>112.752393</td>\n",
       "      <td>-4.463359</td>\n",
       "      <td>PC</td>\n",
       "      <td>0.154000</td>\n",
       "      <td>Gaia DR3 3060208664203492992</td>\n",
       "    </tr>\n",
       "    <tr>\n",
       "      <th>10</th>\n",
       "      <td>101.01</td>\n",
       "      <td>TIC 231663901</td>\n",
       "      <td>1.430370</td>\n",
       "      <td>1.616599</td>\n",
       "      <td>18960.712294</td>\n",
       "      <td>13.187450</td>\n",
       "      <td>1525.904809</td>\n",
       "      <td>1281.240825</td>\n",
       "      <td>5600.0</td>\n",
       "      <td>4.48851</td>\n",
       "      <td>0.890774</td>\n",
       "      <td>318.737012</td>\n",
       "      <td>-55.871863</td>\n",
       "      <td>KP</td>\n",
       "      <td>-0.261609</td>\n",
       "      <td>Gaia DR3 6462994429708755072</td>\n",
       "    </tr>\n",
       "    <tr>\n",
       "      <th>12</th>\n",
       "      <td>1011.01</td>\n",
       "      <td>TIC 114018671</td>\n",
       "      <td>2.470498</td>\n",
       "      <td>2.191000</td>\n",
       "      <td>250.000000</td>\n",
       "      <td>1.446560</td>\n",
       "      <td>1364.000000</td>\n",
       "      <td>575.597000</td>\n",
       "      <td>5413.7</td>\n",
       "      <td>4.46000</td>\n",
       "      <td>0.940000</td>\n",
       "      <td>113.984761</td>\n",
       "      <td>-32.841999</td>\n",
       "      <td>PC</td>\n",
       "      <td>-0.110000</td>\n",
       "      <td>Gaia DR3 5592015297342611968</td>\n",
       "    </tr>\n",
       "    <tr>\n",
       "      <th>17</th>\n",
       "      <td>1016.01</td>\n",
       "      <td>TIC 175310067</td>\n",
       "      <td>12.688942</td>\n",
       "      <td>7.920100</td>\n",
       "      <td>3232.852788</td>\n",
       "      <td>14.060834</td>\n",
       "      <td>1158.131037</td>\n",
       "      <td>425.159418</td>\n",
       "      <td>7601.0</td>\n",
       "      <td>4.31000</td>\n",
       "      <td>1.536410</td>\n",
       "      <td>116.110771</td>\n",
       "      <td>-36.098285</td>\n",
       "      <td>FP</td>\n",
       "      <td>0.223936</td>\n",
       "      <td>Gaia DR3 5587573167284647296</td>\n",
       "    </tr>\n",
       "    <tr>\n",
       "      <th>19</th>\n",
       "      <td>1018.01</td>\n",
       "      <td>TIC 291555748</td>\n",
       "      <td>4.959120</td>\n",
       "      <td>2.509000</td>\n",
       "      <td>7440.000000</td>\n",
       "      <td>22.912300</td>\n",
       "      <td>1419.000000</td>\n",
       "      <td>673.550000</td>\n",
       "      <td>5889.0</td>\n",
       "      <td>3.86000</td>\n",
       "      <td>2.000000</td>\n",
       "      <td>111.716019</td>\n",
       "      <td>-50.266567</td>\n",
       "      <td>FP</td>\n",
       "      <td>-0.118993</td>\n",
       "      <td>Gaia DR3 5505717481529404416</td>\n",
       "    </tr>\n",
       "    <tr>\n",
       "      <th>...</th>\n",
       "      <td>...</td>\n",
       "      <td>...</td>\n",
       "      <td>...</td>\n",
       "      <td>...</td>\n",
       "      <td>...</td>\n",
       "      <td>...</td>\n",
       "      <td>...</td>\n",
       "      <td>...</td>\n",
       "      <td>...</td>\n",
       "      <td>...</td>\n",
       "      <td>...</td>\n",
       "      <td>...</td>\n",
       "      <td>...</td>\n",
       "      <td>...</td>\n",
       "      <td>...</td>\n",
       "      <td>...</td>\n",
       "    </tr>\n",
       "    <tr>\n",
       "      <th>7639</th>\n",
       "      <td>981.01</td>\n",
       "      <td>TIC 127476180</td>\n",
       "      <td>1.605559</td>\n",
       "      <td>2.253000</td>\n",
       "      <td>1168.000000</td>\n",
       "      <td>4.703080</td>\n",
       "      <td>2124.000000</td>\n",
       "      <td>3384.430000</td>\n",
       "      <td>6711.0</td>\n",
       "      <td>4.25000</td>\n",
       "      <td>1.480000</td>\n",
       "      <td>117.113226</td>\n",
       "      <td>-28.204828</td>\n",
       "      <td>FP</td>\n",
       "      <td>0.292080</td>\n",
       "      <td>Gaia DR3 5601388187294617856</td>\n",
       "    </tr>\n",
       "    <tr>\n",
       "      <th>7645</th>\n",
       "      <td>987.01</td>\n",
       "      <td>TIC 52548453</td>\n",
       "      <td>5.214676</td>\n",
       "      <td>4.983063</td>\n",
       "      <td>3754.150648</td>\n",
       "      <td>14.447677</td>\n",
       "      <td>1607.354148</td>\n",
       "      <td>1037.070000</td>\n",
       "      <td>6080.0</td>\n",
       "      <td>3.78000</td>\n",
       "      <td>2.270000</td>\n",
       "      <td>100.925700</td>\n",
       "      <td>-30.491967</td>\n",
       "      <td>FP</td>\n",
       "      <td>0.080000</td>\n",
       "      <td>Gaia DR3 5584423341345392896</td>\n",
       "    </tr>\n",
       "    <tr>\n",
       "      <th>7646</th>\n",
       "      <td>988.01</td>\n",
       "      <td>TIC 113553629</td>\n",
       "      <td>4.304380</td>\n",
       "      <td>3.037000</td>\n",
       "      <td>672.002000</td>\n",
       "      <td>13.756400</td>\n",
       "      <td>1319.000000</td>\n",
       "      <td>503.880000</td>\n",
       "      <td>6056.9</td>\n",
       "      <td>4.17000</td>\n",
       "      <td>4.820000</td>\n",
       "      <td>113.424039</td>\n",
       "      <td>-30.996054</td>\n",
       "      <td>FP</td>\n",
       "      <td>0.288790</td>\n",
       "      <td>Gaia DR3 5593167070135870080</td>\n",
       "    </tr>\n",
       "    <tr>\n",
       "      <th>7655</th>\n",
       "      <td>997.01</td>\n",
       "      <td>TIC 341729521</td>\n",
       "      <td>8.413486</td>\n",
       "      <td>3.556833</td>\n",
       "      <td>17479.605331</td>\n",
       "      <td>20.510696</td>\n",
       "      <td>857.731431</td>\n",
       "      <td>127.916421</td>\n",
       "      <td>5786.0</td>\n",
       "      <td>4.52000</td>\n",
       "      <td>0.926261</td>\n",
       "      <td>121.319521</td>\n",
       "      <td>-59.579798</td>\n",
       "      <td>FP</td>\n",
       "      <td>-0.480000</td>\n",
       "      <td>Gaia DR3 5291265022797336448</td>\n",
       "    </tr>\n",
       "    <tr>\n",
       "      <th>7657</th>\n",
       "      <td>999.01</td>\n",
       "      <td>TIC 341186896</td>\n",
       "      <td>1.507896</td>\n",
       "      <td>2.759000</td>\n",
       "      <td>1839.000000</td>\n",
       "      <td>5.530910</td>\n",
       "      <td>2762.000000</td>\n",
       "      <td>9662.800000</td>\n",
       "      <td>6635.0</td>\n",
       "      <td>4.35000</td>\n",
       "      <td>1.300000</td>\n",
       "      <td>118.864086</td>\n",
       "      <td>-58.222060</td>\n",
       "      <td>FP</td>\n",
       "      <td>-0.020000</td>\n",
       "      <td>Gaia DR3 5294452025969062400</td>\n",
       "    </tr>\n",
       "  </tbody>\n",
       "</table>\n",
       "<p>5182 rows × 16 columns</p>\n",
       "</div>"
      ],
      "text/plain": [
       "          toi            tid  pl_orbper  pl_trandurh    pl_trandep    pl_rade  \\\n",
       "7     1007.01   TIC 65212867   6.998921     3.953000   2840.000000  14.775200   \n",
       "10     101.01  TIC 231663901   1.430370     1.616599  18960.712294  13.187450   \n",
       "12    1011.01  TIC 114018671   2.470498     2.191000    250.000000   1.446560   \n",
       "17    1016.01  TIC 175310067  12.688942     7.920100   3232.852788  14.060834   \n",
       "19    1018.01  TIC 291555748   4.959120     2.509000   7440.000000  22.912300   \n",
       "...       ...            ...        ...          ...           ...        ...   \n",
       "7639   981.01  TIC 127476180   1.605559     2.253000   1168.000000   4.703080   \n",
       "7645   987.01   TIC 52548453   5.214676     4.983063   3754.150648  14.447677   \n",
       "7646   988.01  TIC 113553629   4.304380     3.037000    672.002000  13.756400   \n",
       "7655   997.01  TIC 341729521   8.413486     3.556833  17479.605331  20.510696   \n",
       "7657   999.01  TIC 341186896   1.507896     2.759000   1839.000000   5.530910   \n",
       "\n",
       "           pl_eqt     pl_insol  st_teff  st_logg    st_rad          ra  \\\n",
       "7     1282.000000   448.744000   6596.0  3.71000  2.700000  112.752393   \n",
       "10    1525.904809  1281.240825   5600.0  4.48851  0.890774  318.737012   \n",
       "12    1364.000000   575.597000   5413.7  4.46000  0.940000  113.984761   \n",
       "17    1158.131037   425.159418   7601.0  4.31000  1.536410  116.110771   \n",
       "19    1419.000000   673.550000   5889.0  3.86000  2.000000  111.716019   \n",
       "...           ...          ...      ...      ...       ...         ...   \n",
       "7639  2124.000000  3384.430000   6711.0  4.25000  1.480000  117.113226   \n",
       "7645  1607.354148  1037.070000   6080.0  3.78000  2.270000  100.925700   \n",
       "7646  1319.000000   503.880000   6056.9  4.17000  4.820000  113.424039   \n",
       "7655   857.731431   127.916421   5786.0  4.52000  0.926261  121.319521   \n",
       "7657  2762.000000  9662.800000   6635.0  4.35000  1.300000  118.864086   \n",
       "\n",
       "            dec tfopwg_disp      fe_h                gaia_source_id  \n",
       "7     -4.463359          PC  0.154000  Gaia DR3 3060208664203492992  \n",
       "10   -55.871863          KP -0.261609  Gaia DR3 6462994429708755072  \n",
       "12   -32.841999          PC -0.110000  Gaia DR3 5592015297342611968  \n",
       "17   -36.098285          FP  0.223936  Gaia DR3 5587573167284647296  \n",
       "19   -50.266567          FP -0.118993  Gaia DR3 5505717481529404416  \n",
       "...         ...         ...       ...                           ...  \n",
       "7639 -28.204828          FP  0.292080  Gaia DR3 5601388187294617856  \n",
       "7645 -30.491967          FP  0.080000  Gaia DR3 5584423341345392896  \n",
       "7646 -30.996054          FP  0.288790  Gaia DR3 5593167070135870080  \n",
       "7655 -59.579798          FP -0.480000  Gaia DR3 5291265022797336448  \n",
       "7657 -58.222060          FP -0.020000  Gaia DR3 5294452025969062400  \n",
       "\n",
       "[5182 rows x 16 columns]"
      ]
     },
     "execution_count": 86,
     "metadata": {},
     "output_type": "execute_result"
    }
   ],
   "source": [
    "df1 = df1.dropna()\n",
    "df1"
   ]
  }
 ],
 "metadata": {
  "kernelspec": {
   "display_name": "python_workspace",
   "language": "python",
   "name": "python3"
  },
  "language_info": {
   "codemirror_mode": {
    "name": "ipython",
    "version": 3
   },
   "file_extension": ".py",
   "mimetype": "text/x-python",
   "name": "python",
   "nbconvert_exporter": "python",
   "pygments_lexer": "ipython3",
   "version": "3.10.18"
  }
 },
 "nbformat": 4,
 "nbformat_minor": 5
}
