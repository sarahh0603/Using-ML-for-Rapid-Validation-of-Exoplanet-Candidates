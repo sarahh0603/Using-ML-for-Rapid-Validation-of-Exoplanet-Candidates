{
 "cells": [
  {
   "cell_type": "code",
   "execution_count": 1,
   "metadata": {},
   "outputs": [
    {
     "name": "stdout",
     "output_type": "stream",
     "text": [
      "The new column 'multi_pl' has been added and the updated file is saved.\n"
     ]
    }
   ],
   "source": [
    "import numpy as np\n",
    "import pandas as pd\n",
    "\n",
    "# Identify multiple planetary systems\n",
    "# Load the CSV file\n",
    "df = pd.read_csv('KOI_cumulative_2025.01.10_gaia_updated.csv')\n",
    "\n",
    "# Drop rows where 'ExoplanetCandidate' is 0\n",
    "df = df[df['ExoplanetCandidate'] != 0]\n",
    "\n",
    "# Count the occurrences of each 'kepid'\n",
    "kepid_counts = df['kepid'].value_counts()\n",
    "\n",
    "# Create the 'multi_pl' column\n",
    "df['multi_pl'] = df['kepid'].apply(lambda x: 1 if kepid_counts[x] > 1 else 0)\n",
    "\n",
    "# Save the updated DataFrame back to a CSV file\n",
    "df.to_csv('KOI_cumulative_2025.01.10_gaia_multpl_sptype_candidate.csv', index=False)\n",
    "\n",
    "print(\"The new column 'multi_pl' has been added and the updated file is saved.\")"
   ]
  },
  {
   "cell_type": "code",
   "execution_count": 3,
   "metadata": {},
   "outputs": [
    {
     "name": "stdout",
     "output_type": "stream",
     "text": [
      "The new column 'spectral_type' has been added and the updated file is saved.\n"
     ]
    }
   ],
   "source": [
    "# Determine spectral type\n",
    "# Load the CSV file\n",
    "df = pd.read_csv('KOI_cumulative_2025.01.10_gaia_multpl_sptype_candidate.csv')\n",
    "\n",
    "# Define a function to determine spectral type based on st_teff\n",
    "def determine_spectral_type(st_teff):\n",
    "    if st_teff > 33000:\n",
    "        return 'O'\n",
    "    elif 10000 <= st_teff <= 33000:\n",
    "        return 'B'\n",
    "    elif 7500 <= st_teff < 10000:\n",
    "        return 'A'\n",
    "    elif 6000 <= st_teff < 7500:\n",
    "        return 'F'\n",
    "    elif 5200 <= st_teff < 6000:\n",
    "        return 'G'\n",
    "    elif 3700 <= st_teff < 5200:\n",
    "        return 'K'\n",
    "    else:\n",
    "        return 'M'\n",
    "\n",
    "# Apply the function to the 'st_teff' column to create the new 'spectral_type' column\n",
    "df['spectral_type'] = df['koi_steff'].apply(determine_spectral_type)\n",
    "\n",
    "# Save the updated DataFrame back to CSV\n",
    "df.to_csv('KOI_cumulative_2025.01.10_gaia_multpl_sptype_candidate.csv', index=False)\n",
    "\n",
    "print(\"The new column 'spectral_type' has been added and the updated file is saved.\")"
   ]
  },
  {
   "cell_type": "code",
   "execution_count": null,
   "metadata": {},
   "outputs": [],
   "source": []
  }
 ],
 "metadata": {
  "kernelspec": {
   "display_name": "Python [conda env:base] *",
   "language": "python",
   "name": "conda-base-py"
  },
  "language_info": {
   "codemirror_mode": {
    "name": "ipython",
    "version": 3
   },
   "file_extension": ".py",
   "mimetype": "text/x-python",
   "name": "python",
   "nbconvert_exporter": "python",
   "pygments_lexer": "ipython3",
   "version": "3.12.7"
  }
 },
 "nbformat": 4,
 "nbformat_minor": 4
}
