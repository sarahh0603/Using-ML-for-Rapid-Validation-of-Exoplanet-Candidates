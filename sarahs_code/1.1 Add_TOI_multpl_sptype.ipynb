{
 "cells": [
  {
   "cell_type": "code",
   "execution_count": 1,
   "id": "5186c2bf-7ceb-4df2-900f-670640c7eed2",
   "metadata": {},
   "outputs": [
    {
     "name": "stdout",
     "output_type": "stream",
     "text": [
      "The new column 'multi_pl' has been added and the updated file is saved.\n"
     ]
    }
   ],
   "source": [
    "import numpy as np\n",
    "import pandas as pd\n",
    "\n",
    "# Identify multiple planetary systems\n",
    "# Load the CSV file\n",
    "df = pd.read_csv('TOI_2025.01.10_08.14.57_with_gaia_3_predicted.csv')\n",
    "\n",
    "# Drop rows where 'tfopwg_disp' is 'FP' or 'FA'\n",
    "df = df[~df['tfopwg_disp'].isin(['FP', 'FA'])]\n",
    "\n",
    "# Drop rows where 'tfopwg_disp' is 'PC' or 'APC' and 'Prediction' is 0\n",
    "df = df[~((df['tfopwg_disp'].isin(['PC', 'APC'])) & (df['Prediction'] == 0))]\n",
    "\n",
    "# Count the occurrences of each 'kepid'\n",
    "tid_counts = df['tid'].value_counts()\n",
    "\n",
    "# Create the 'multi_pl' column\n",
    "df['multi_pl'] = df['tid'].apply(lambda x: 1 if tid_counts[x] > 1 else 0)\n",
    "\n",
    "# Save the updated DataFrame back to a CSV file\n",
    "df.to_csv('TOI_2025.01.10_gaia_3_predicted_multipl_sptype_APCPC+CP+KP.csv', index=False)\n",
    "\n",
    "print(\"The new column 'multi_pl' has been added and the updated file is saved.\")"
   ]
  },
  {
   "cell_type": "code",
   "execution_count": 3,
   "id": "8d24202d-50b9-43bb-a813-ef3fd86493d4",
   "metadata": {},
   "outputs": [
    {
     "name": "stdout",
     "output_type": "stream",
     "text": [
      "The new column 'spectral_type' has been added and the updated file is saved.\n"
     ]
    }
   ],
   "source": [
    "import numpy as np\n",
    "import pandas as pd\n",
    "\n",
    "# Determine spectral type\n",
    "# Load the CSV file\n",
    "df = pd.read_csv('TOI_2025.01.10_gaia_3_predicted_multipl_sptype.csv')\n",
    "\n",
    "# Define a function to determine spectral type based on st_teff\n",
    "def determine_spectral_type(st_teff):\n",
    "    if st_teff > 33000.00:\n",
    "        return 'O'\n",
    "    elif 10000.00 <= st_teff <= 33000.00:\n",
    "        return 'B'\n",
    "    elif 7500.00 <= st_teff < 10000.00:\n",
    "        return 'A'\n",
    "    elif 6000.00 <= st_teff < 7500.00:\n",
    "        return 'F'\n",
    "    elif 5200.00 <= st_teff < 6000.00:\n",
    "        return 'G'\n",
    "    elif 3700.00 <= st_teff < 5200.00:\n",
    "        return 'K'\n",
    "    else:\n",
    "        return 'M'\n",
    "\n",
    "# Apply the function to the 'st_teff' column to create the new 'spectral_type' column\n",
    "df['spectral_type'] = df['st_teff'].apply(determine_spectral_type)\n",
    "\n",
    "# Save the updated DataFrame back to CSV\n",
    "df.to_csv('TOI_2025.01.10_gaia_3_predicted_multipl_sptype_APCPC+CP+KP.csv', index=False)\n",
    "\n",
    "print(\"The new column 'spectral_type' has been added and the updated file is saved.\")"
   ]
  },
  {
   "cell_type": "code",
   "execution_count": null,
   "id": "19add8d8-4b2c-437b-b091-bd20037b4697",
   "metadata": {},
   "outputs": [],
   "source": []
  }
 ],
 "metadata": {
  "kernelspec": {
   "display_name": "Python 3 (ipykernel)",
   "language": "python",
   "name": "python3"
  },
  "language_info": {
   "codemirror_mode": {
    "name": "ipython",
    "version": 3
   },
   "file_extension": ".py",
   "mimetype": "text/x-python",
   "name": "python",
   "nbconvert_exporter": "python",
   "pygments_lexer": "ipython3",
   "version": "3.13.5"
  }
 },
 "nbformat": 4,
 "nbformat_minor": 5
}
