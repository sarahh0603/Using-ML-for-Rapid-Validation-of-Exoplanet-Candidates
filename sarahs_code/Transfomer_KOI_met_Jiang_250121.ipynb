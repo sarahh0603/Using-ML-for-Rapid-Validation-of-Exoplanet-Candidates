{
 "cells": [
  {
   "cell_type": "code",
   "execution_count": 1,
   "id": "c2004d38",
   "metadata": {},
   "outputs": [],
   "source": [
    "import pandas as pd\n",
    "import numpy as np\n",
    "import matplotlib.pyplot as plt\n",
    "import tensorflow as tf\n",
    "from sklearn.model_selection import train_test_split\n",
    "from sklearn.preprocessing import StandardScaler\n",
    "from sklearn.metrics import confusion_matrix, accuracy_score, classification_report, roc_curve, auc, f1_score, precision_score, recall_score\n",
    "import seaborn as sns\n",
    "from sklearn import metrics\n",
    "from tensorflow.keras import layers\n",
    "\n"
   ]
  },
  {
   "cell_type": "code",
   "execution_count": 2,
   "id": "df50f336",
   "metadata": {},
   "outputs": [],
   "source": [
    "# Transformer Encoder Definition\n",
    "def transformer_encoder(inputs, head_size, num_heads, ff_dim, dropout=0.1):\n",
    "    # Normalization and Multi-Head Attention\n",
    "    x = layers.LayerNormalization(epsilon=1e-6)(inputs)\n",
    "    x = layers.MultiHeadAttention(key_dim=head_size, num_heads=num_heads, dropout=dropout)(x, x)\n",
    "    x = layers.Dropout(dropout)(x)\n",
    "    res = x + inputs\n",
    "\n",
    "    # Feed Forward Network\n",
    "    x = layers.LayerNormalization(epsilon=1e-6)(res)\n",
    "    x = layers.Dense(ff_dim, activation=\"relu\")(x)\n",
    "    x = layers.Dropout(dropout)(x)\n",
    "    x = layers.Dense(inputs.shape[-1])(x)\n",
    "    return x + res"
   ]
  },
  {
   "cell_type": "code",
   "execution_count": 9,
   "id": "1f575b75",
   "metadata": {},
   "outputs": [],
   "source": [
    "# Load and Prepare Data\n",
    "data = pd.read_csv('KOI_cumulative_2025.07.31_21.17.09.csv', comment='#')\n",
    "data['ExoplanetCandidate'] = data['koi_disposition'].apply(lambda x: 1 if x == 'CANDIDATE' or x == 'CONFIRMED' else 0)\n",
    "\n",
    "short_cols = ['koi_period', 'koi_duration', 'koi_depth', 'koi_prad',\n",
    "              'koi_teq', 'koi_insol', 'koi_steff', 'koi_slogg', 'koi_srad', 'koi_smet', 'ExoplanetCandidate']\n",
    "\n",
    "data = data[short_cols].dropna()\n",
    "# Define the feature columns and label\n",
    "feature_columns = ['koi_period', 'koi_duration', 'koi_depth', 'koi_prad', 'koi_teq', 'koi_insol', 'koi_steff', 'koi_slogg', 'koi_srad', 'koi_smet']\n",
    "label_column = 'ExoplanetCandidate'\n",
    "\n",
    "# Split the data into features and labels\n",
    "X = data[feature_columns].values\n",
    "y = data[label_column].values\n",
    "x_train, x_test, y_train, y_test = train_test_split(X, y, random_state=10, test_size=0.2)\n",
    "\n",
    "# Normalize Features\n",
    "scaler = StandardScaler()\n",
    "x_train = scaler.fit_transform(x_train)\n",
    "x_test = scaler.transform(x_test)\n",
    "\n",
    "# Reshape Data for Transformer (3D Input)\n",
    "x_train = tf.expand_dims(x_train, axis=-1)  # Shape: (batch_size, num_features, 1)\n",
    "x_test = tf.expand_dims(x_test, axis=-1)\n",
    "\n",
    "# Build Model with Transformer Encoder and Dense Layers\n",
    "input_shape = (x_train.shape[1], 1)  # num_features, 1"
   ]
  },
  {
   "cell_type": "code",
   "execution_count": 10,
   "id": "19572b03",
   "metadata": {},
   "outputs": [],
   "source": [
    "inputs = layers.Input(shape=input_shape)\n",
    "x = transformer_encoder(inputs, head_size=32, num_heads=2, ff_dim=64, dropout=0.1)\n",
    "x = layers.Flatten()(x)  # Flatten Transformer Output\n",
    "x = layers.Dense(32)(x)\n",
    "x = layers.LayerNormalization(axis=-1, center=True, scale=True)(x)\n",
    "x = layers.Dense(16, activation='relu')(x)  # Used to be ReLU\n",
    "x = layers.Dense(8, activation='relu')(x)\n",
    "outputs = layers.Dense(1, activation='sigmoid')(x)"
   ]
  },
  {
   "cell_type": "code",
   "execution_count": 11,
   "id": "dae6595d",
   "metadata": {},
   "outputs": [
    {
     "name": "stdout",
     "output_type": "stream",
     "text": [
      "Model: \"model\"\n",
      "__________________________________________________________________________________________________\n",
      " Layer (type)                   Output Shape         Param #     Connected to                     \n",
      "==================================================================================================\n",
      " input_1 (InputLayer)           [(None, 10, 1)]      0           []                               \n",
      "                                                                                                  \n",
      " layer_normalization (LayerNorm  (None, 10, 1)       2           ['input_1[0][0]']                \n"
     ]
    },
    {
     "name": "stdout",
     "output_type": "stream",
     "text": [
      " alization)                                                                                       \n",
      "                                                                                                  \n",
      " multi_head_attention (MultiHea  (None, 10, 1)       449         ['layer_normalization[0][0]',    \n",
      " dAttention)                                                      'layer_normalization[0][0]']    \n",
      "                                                                                                  \n",
      " dropout (Dropout)              (None, 10, 1)        0           ['multi_head_attention[0][0]']   \n",
      "                                                                                                  \n",
      " tf.__operators__.add (TFOpLamb  (None, 10, 1)       0           ['dropout[0][0]',                \n",
      " da)                                                              'input_1[0][0]']                \n",
      "                                                                                                  \n",
      " layer_normalization_1 (LayerNo  (None, 10, 1)       2           ['tf.__operators__.add[0][0]']   \n",
      " rmalization)                                                                                     \n",
      "                                                                                                  \n",
      " dense (Dense)                  (None, 10, 64)       128         ['layer_normalization_1[0][0]']  \n",
      "                                                                                                  \n",
      " dropout_1 (Dropout)            (None, 10, 64)       0           ['dense[0][0]']                  \n",
      "                                                                                                  \n",
      " dense_1 (Dense)                (None, 10, 1)        65          ['dropout_1[0][0]']              \n",
      "                                                                                                  \n",
      " tf.__operators__.add_1 (TFOpLa  (None, 10, 1)       0           ['dense_1[0][0]',                \n",
      " mbda)                                                            'tf.__operators__.add[0][0]']   \n",
      "                                                                                                  \n",
      " flatten (Flatten)              (None, 10)           0           ['tf.__operators__.add_1[0][0]'] \n",
      "                                                                                                  \n",
      " dense_2 (Dense)                (None, 32)           352         ['flatten[0][0]']                \n",
      "                                                                                                  \n",
      " layer_normalization_2 (LayerNo  (None, 32)          64          ['dense_2[0][0]']                \n",
      " rmalization)                                                                                     \n",
      "                                                                                                  \n",
      " dense_3 (Dense)                (None, 16)           528         ['layer_normalization_2[0][0]']  \n",
      "                                                                                                  \n",
      " dense_4 (Dense)                (None, 8)            136         ['dense_3[0][0]']                \n",
      "                                                                                                  \n",
      " dense_5 (Dense)                (None, 1)            9           ['dense_4[0][0]']                \n",
      "                                                                                                  \n",
      "==================================================================================================\n",
      "Total params: 1,735\n",
      "Trainable params: 1,735\n",
      "Non-trainable params: 0\n",
      "__________________________________________________________________________________________________\n"
     ]
    }
   ],
   "source": [
    "model = tf.keras.Model(inputs, outputs)\n",
    "\n",
    "# Compile Model\n",
    "model.compile(optimizer='Adamax', loss='binary_crossentropy', metrics=['accuracy'])\n",
    "\n",
    "model.summary()"
   ]
  },
  {
   "cell_type": "code",
   "execution_count": 12,
   "id": "90ce6389",
   "metadata": {},
   "outputs": [
    {
     "name": "stdout",
     "output_type": "stream",
     "text": [
      "Epoch 1/20\n"
     ]
    },
    {
     "name": "stderr",
     "output_type": "stream",
     "text": [
      "2025-08-30 15:12:43.249687: W tensorflow/tsl/platform/profile_utils/cpu_utils.cc:128] Failed to get CPU frequency: 0 Hz\n"
     ]
    },
    {
     "name": "stdout",
     "output_type": "stream",
     "text": [
      "918/918 [==============================] - 2s 1ms/step - loss: 0.5035 - accuracy: 0.7533 - val_loss: 0.4501 - val_accuracy: 0.7843\n",
      "Epoch 2/20\n",
      "918/918 [==============================] - 1s 826us/step - loss: 0.4367 - accuracy: 0.7886 - val_loss: 0.4341 - val_accuracy: 0.7952\n",
      "Epoch 3/20\n",
      "918/918 [==============================] - 1s 825us/step - loss: 0.4230 - accuracy: 0.8005 - val_loss: 0.4230 - val_accuracy: 0.7963\n",
      "Epoch 4/20\n",
      "918/918 [==============================] - 1s 863us/step - loss: 0.4162 - accuracy: 0.8006 - val_loss: 0.4199 - val_accuracy: 0.7985\n",
      "Epoch 5/20\n",
      "918/918 [==============================] - 1s 805us/step - loss: 0.4114 - accuracy: 0.8074 - val_loss: 0.4154 - val_accuracy: 0.7968\n",
      "Epoch 6/20\n",
      "918/918 [==============================] - 1s 915us/step - loss: 0.4080 - accuracy: 0.8104 - val_loss: 0.4111 - val_accuracy: 0.7996\n",
      "Epoch 7/20\n",
      "918/918 [==============================] - 1s 841us/step - loss: 0.4050 - accuracy: 0.8085 - val_loss: 0.4129 - val_accuracy: 0.7990\n",
      "Epoch 8/20\n",
      "918/918 [==============================] - 1s 856us/step - loss: 0.4030 - accuracy: 0.8122 - val_loss: 0.4122 - val_accuracy: 0.8045\n",
      "Epoch 9/20\n",
      "918/918 [==============================] - 1s 924us/step - loss: 0.4014 - accuracy: 0.8144 - val_loss: 0.4100 - val_accuracy: 0.8088\n",
      "Epoch 10/20\n",
      "918/918 [==============================] - 1s 830us/step - loss: 0.3996 - accuracy: 0.8154 - val_loss: 0.4103 - val_accuracy: 0.8115\n",
      "Epoch 11/20\n",
      "918/918 [==============================] - 1s 829us/step - loss: 0.3984 - accuracy: 0.8123 - val_loss: 0.4154 - val_accuracy: 0.8017\n",
      "Epoch 12/20\n",
      "918/918 [==============================] - 1s 872us/step - loss: 0.3971 - accuracy: 0.8150 - val_loss: 0.4060 - val_accuracy: 0.8050\n",
      "Epoch 13/20\n",
      "918/918 [==============================] - 1s 840us/step - loss: 0.3959 - accuracy: 0.8153 - val_loss: 0.4028 - val_accuracy: 0.8045\n",
      "Epoch 14/20\n",
      "918/918 [==============================] - 1s 821us/step - loss: 0.3961 - accuracy: 0.8163 - val_loss: 0.4053 - val_accuracy: 0.8045\n",
      "Epoch 15/20\n",
      "918/918 [==============================] - 1s 817us/step - loss: 0.3949 - accuracy: 0.8160 - val_loss: 0.4031 - val_accuracy: 0.8045\n",
      "Epoch 16/20\n",
      "918/918 [==============================] - 1s 827us/step - loss: 0.3943 - accuracy: 0.8152 - val_loss: 0.4061 - val_accuracy: 0.8077\n",
      "Epoch 17/20\n",
      "918/918 [==============================] - 1s 853us/step - loss: 0.3934 - accuracy: 0.8164 - val_loss: 0.4013 - val_accuracy: 0.8072\n",
      "Epoch 18/20\n",
      "918/918 [==============================] - 1s 798us/step - loss: 0.3928 - accuracy: 0.8142 - val_loss: 0.4069 - val_accuracy: 0.8066\n",
      "Epoch 19/20\n",
      "918/918 [==============================] - 1s 803us/step - loss: 0.3923 - accuracy: 0.8159 - val_loss: 0.4043 - val_accuracy: 0.8061\n",
      "Epoch 20/20\n",
      "918/918 [==============================] - 1s 829us/step - loss: 0.3916 - accuracy: 0.8183 - val_loss: 0.3977 - val_accuracy: 0.8050\n",
      "58/58 [==============================] - 0s 523us/step - loss: 0.3977 - accuracy: 0.8050\n",
      "Test Loss: 0.3976804316043854, Test Accuracy: 0.8050109148025513\n"
     ]
    }
   ],
   "source": [
    "best_loss = 1983252378921\n",
    "for i in range(1):\n",
    "    # Train Model\n",
    "    fitModel = model.fit(\n",
    "        x_train, y_train, \n",
    "        epochs=20, batch_size=8, \n",
    "        validation_data=(x_test, y_test), \n",
    "        verbose=1\n",
    "    )\n",
    "\n",
    "    # Save History for Plotting\n",
    "    history = fitModel.history\n",
    "\n",
    "    if history['val_loss'][-1] < best_loss:\n",
    "        best_loss = history['val_loss'][-1]\n",
    "        model.save('NNmodel.h5')\n",
    "\n",
    "# Evaluate the model\n",
    "test_loss, test_accuracy = model.evaluate(x_test, y_test)\n",
    "print(f\"Test Loss: {test_loss}, Test Accuracy: {test_accuracy}\")"
   ]
  },
  {
   "cell_type": "code",
   "execution_count": 14,
   "id": "cf137e38-dbdb-48e2-82a1-733412ba36ea",
   "metadata": {},
   "outputs": [
    {
     "name": "stdout",
     "output_type": "stream",
     "text": [
      "58/58 [==============================] - 0s 612us/step\n",
      "F1 Score: 0.8145077720207254\n",
      "Recall: 0.8247639034627492\n",
      "Precision: 0.804503582395087\n",
      "Accuracy: 0.8050108932461874\n"
     ]
    },
    {
     "data": {
      "image/png": "[encoded data removed]",
      "text/plain": [
       "<Figure size 432x288 with 1 Axes>"
      ]
     },
     "metadata": {
      "needs_background": "light"
     },
     "output_type": "display_data"
    },
    {
     "data": {
      "image/png": "[encoded data removed]",
      "text/plain": [
       "<Figure size 432x288 with 2 Axes>"
      ]
     },
     "metadata": {
      "needs_background": "light"
     },
     "output_type": "display_data"
    },
    {
     "name": "stdout",
     "output_type": "stream",
     "text": [
      "Model saved as transformer_model.h5\n"
     ]
    }
   ],
   "source": [
    "# Predict on the test set\n",
    "y_pred_prob = model.predict(x_test)\n",
    "y_pred = (y_pred_prob > 0.5).astype(\"int32\")\n",
    "\n",
    "# Compute F1 score, recall and precision\n",
    "f1 = f1_score(y_test, y_pred)\n",
    "recall = recall_score(y_test, y_pred)\n",
    "precision = precision_score(y_test, y_pred)\n",
    "accuracy = accuracy_score(y_test, y_pred)\n",
    "\n",
    "print(f\"F1 Score: {f1}\")\n",
    "print(f\"Recall: {recall}\")\n",
    "print(f\"Precision: {precision}\")\n",
    "print(f\"Accuracy: {accuracy}\")\n",
    "\n",
    "# Compute and plot AUC and ROC curve\n",
    "fpr, tpr, _ = roc_curve(y_test, y_pred_prob)\n",
    "roc_auc = auc(fpr, tpr)\n",
    "\n",
    "plt.figure()\n",
    "plt.plot(fpr, tpr, color='darkorange', lw=2, label=f'ROC curve (area = {roc_auc:.2f})')\n",
    "plt.plot([0, 1], [0, 1], color='navy', lw=2, linestyle='--')\n",
    "plt.xlim([0.0, 1.0])\n",
    "plt.ylim([0.0, 1.05])\n",
    "plt.xlabel('False Positive Rate')\n",
    "plt.ylabel('True Positive Rate')\n",
    "plt.title('Receiver Operating Characteristic (ROC) Curve')\n",
    "plt.legend(loc=\"lower right\")\n",
    "plt.show()\n",
    "\n",
    "# Compute and plot confusion matrix\n",
    "conf_matrix = confusion_matrix(y_test, y_pred)\n",
    "\n",
    "plt.figure()\n",
    "sns.heatmap(conf_matrix, annot=True, fmt='d', cmap='Blues')\n",
    "plt.xlabel('Predicted Label')\n",
    "plt.ylabel('True Label')\n",
    "plt.title('Confusion Matrix')\n",
    "plt.show()\n",
    "\n",
    "# Save the final model for prediction\n",
    "model.save('transformer_model.h5')\n",
    "print(\"Model saved as transformer_model.h5\")"
   ]
  },
  {
   "cell_type": "code",
   "execution_count": 15,
   "id": "b71f9286-b1ad-4a0c-bedb-b2cdb1f2dd33",
   "metadata": {},
   "outputs": [
    {
     "data": {
      "image/png": "[encoded data removed]",
      "text/plain": [
       "<Figure size 432x288 with 1 Axes>"
      ]
     },
     "metadata": {
      "needs_background": "light"
     },
     "output_type": "display_data"
    },
    {
     "data": {
      "image/png": "[encoded data removed]",
      "text/plain": [
       "<Figure size 432x288 with 1 Axes>"
      ]
     },
     "metadata": {
      "needs_background": "light"
     },
     "output_type": "display_data"
    }
   ],
   "source": [
    "# Plot loss function over epochs\n",
    "plt.figure()\n",
    "plt.plot(history['loss'], label='Training Loss')\n",
    "plt.plot(history['val_loss'], label='Validation Loss')\n",
    "plt.xlabel('Epochs')\n",
    "plt.ylabel('Loss')\n",
    "plt.title('Loss Function Over Epochs')\n",
    "plt.legend()\n",
    "plt.show()\n",
    "\n",
    "# Plot accuracy over epochs\n",
    "plt.figure()\n",
    "plt.plot(history['accuracy'], label='Training Accuracy')\n",
    "plt.plot(history['val_accuracy'], label='Validation Accuracy')\n",
    "plt.xlabel('Epochs')\n",
    "plt.ylabel('Accuracy')\n",
    "plt.title('Accuracy Over Epochs')\n",
    "plt.legend()\n",
    "plt.show()"
   ]
  },
  {
   "cell_type": "code",
   "execution_count": 16,
   "id": "e93addb0",
   "metadata": {},
   "outputs": [],
   "source": [
    "# DO NOT USE\n",
    "def evaluation(y_true, y_pred, plot=True, quiet=False):\n",
    "\n",
    "    accuracy, recall, f1, precision = metrics.accuracy_score(y_test, y_pred), metrics.recall_score(y_test, y_pred), \\\n",
    "                                        metrics.f1_score(y_test, y_pred), metrics.precision_score(y_test, y_pred)\n",
    "    tn, fp, fn, tp = confusion_matrix(y_true, y_pred).ravel()\n",
    "    if not quiet:\n",
    "        # Print Accuracy, Recall, F1 Score, and Precision metrics.\n",
    "        print('Evaluation Metrics:')\n",
    "        print('Accuracy: ' + str(accuracy))\n",
    "        print('Recall: ' + str(recall))\n",
    "        print('F1 Score: ' + str(f1))\n",
    "        print('Precision: ' + str(precision))\n",
    "\n",
    "        # Print Confusion Matrix\n",
    "        print('\\nConfusion Matrix:')\n",
    "        print(' TN,  FP, FN, TP')\n",
    "        print(confusion_matrix(y_true, y_pred).ravel())\n",
    "    \n",
    "    if plot:\n",
    "        # plt.figure(figsize=(13,10))\n",
    "        # plt.subplot(221)\n",
    "        sns.heatmap(confusion_matrix(y_true, y_pred), annot=True, cmap=\"viridis\", fmt = \"d\", linecolor=\"k\", linewidths=3)\n",
    "        plt.title(\"CONFUSION MATRIX\",fontsize=20)\n",
    "        plt.xlabel(\"Truth\", fontsize=16)\n",
    "        plt.ylabel(\"Prediction\", fontsize=16)\n",
    "        plt.show()\n",
    "\n",
    "    return [accuracy, recall, f1, precision, tn, fp, fn, tp]"
   ]
  },
  {
   "cell_type": "code",
   "execution_count": 17,
   "id": "0b2afca7-44ef-48eb-8a44-73f00ee64ca3",
   "metadata": {},
   "outputs": [
    {
     "name": "stdout",
     "output_type": "stream",
     "text": [
      "58/58 [==============================] - 0s 567us/step\n",
      "Evaluation Metrics:\n",
      "Accuracy: 0.8050108932461874\n",
      "Recall: 0.8247639034627492\n",
      "F1 Score: 0.8145077720207254\n",
      "Precision: 0.804503582395087\n",
      "\n",
      "Confusion Matrix:\n",
      " TN,  FP, FN, TP\n",
      "[692 191 167 786]\n"
     ]
    },
    {
     "data": {
      "image/png": "[encoded data removed]",
      "text/plain": [
       "<Figure size 432x288 with 2 Axes>"
      ]
     },
     "metadata": {
      "needs_background": "light"
     },
     "output_type": "display_data"
    },
    {
     "data": {
      "text/plain": [
       "[0.8050108932461874,\n",
       " 0.8247639034627492,\n",
       " 0.8145077720207254,\n",
       " 0.804503582395087,\n",
       " 692,\n",
       " 191,\n",
       " 167,\n",
       " 786]"
      ]
     },
     "execution_count": 17,
     "metadata": {},
     "output_type": "execute_result"
    }
   ],
   "source": [
    "# Custom layer to wrap tf.reduce_mean\n",
    "class ReduceMeanLayer(tf.keras.layers.Layer):\n",
    "    def call(self, inputs):\n",
    "        return tf.reduce_mean(inputs, axis=1)\n",
    "    \n",
    "# DO NOT USE\n",
    "# SAVING A NEW MODEL\n",
    "model.save('transformer_model.keras')\n",
    "\n",
    "# LOADING OLD MODEL\n",
    "loaded_model = tf.keras.models.load_model('transformer_model.keras', custom_objects={'ReduceMeanLayer': ReduceMeanLayer})\n",
    "\n",
    "# Recompile the model with the desired optimizer\n",
    "loaded_model.compile(optimizer=\"adam\", loss=\"sparse_categorical_crossentropy\", metrics=[\"accuracy\"])\n",
    "\n",
    "y_pred = loaded_model.predict(x_test).flatten()\n",
    "y_pred = (y_pred_prob > 0.5).astype(\"int32\")\n",
    "\n",
    "# Assuming you have an evaluation function defined\n",
    "evaluation(y_test, y_pred)"
   ]
  },
  {
   "cell_type": "code",
   "execution_count": 18,
   "id": "d8b92170-dcde-402a-9eaf-fc1ed7688a6d",
   "metadata": {},
   "outputs": [
    {
     "name": "stdout",
     "output_type": "stream",
     "text": [
      "X_test shape: (1836, 10, 1)\n",
      "y_test shape: (1836,)\n",
      "58/58 [==============================] - 0s 554us/step\n",
      "y_pred shape: (1836,)\n"
     ]
    }
   ],
   "source": [
    "# Check the shapes of X_test and y_test\n",
    "print(\"X_test shape:\", x_test.shape)\n",
    "print(\"y_test shape:\", y_test.shape)\n",
    "\n",
    "# Make predictions\n",
    "y_pred = loaded_model.predict(x_test).flatten()\n",
    "\n",
    "# Check the shape of y_pred\n",
    "print(\"y_pred shape:\", y_pred.shape)"
   ]
  },
  {
   "cell_type": "code",
   "execution_count": 13,
   "id": "800428d3",
   "metadata": {},
   "outputs": [
    {
     "name": "stdout",
     "output_type": "stream",
     "text": [
      "Label Distribution: [3684 3658]\n"
     ]
    }
   ],
   "source": [
    "print(\"Label Distribution:\", np.bincount(y_train))"
   ]
  },
  {
   "cell_type": "code",
   "execution_count": 13,
   "id": "9c2353cd",
   "metadata": {},
   "outputs": [],
   "source": [
    "import os\n",
    "os.environ['PATH'] += ':/opt/homebrew/bin/'"
   ]
  },
  {
   "cell_type": "code",
   "execution_count": 15,
   "id": "a859f569",
   "metadata": {},
   "outputs": [],
   "source": [
    "from tensorflow.keras.utils import plot_model\n",
    "\n",
    "# Plot the model with custom colors\n",
    "plot_model(\n",
    "    model,\n",
    "    to_file=\"model_structure.pdf\",\n",
    "    # show_shapes=True,\n",
    "    show_layer_names=True,\n",
    ")\n"
   ]
  },
  {
   "cell_type": "code",
   "execution_count": null,
   "id": "3ee08b73",
   "metadata": {},
   "outputs": [
    {
     "name": "stdout",
     "output_type": "stream",
     "text": [
      "Collecting plot_model\n",
      "  Downloading plot_model-0.20-py3-none-any.whl.metadata (2.7 kB)\n",
      "Downloading plot_model-0.20-py3-none-any.whl (6.9 kB)\n",
      "Installing collected packages: plot_model\n",
      "Successfully installed plot_model-0.20\n"
     ]
    }
   ],
   "source": []
  },
  {
   "cell_type": "code",
   "execution_count": null,
   "id": "90e113fb",
   "metadata": {},
   "outputs": [],
   "source": []
  }
 ],
 "metadata": {
  "kernelspec": {
   "display_name": "python_workspace",
   "language": "python",
   "name": "python3"
  },
  "language_info": {
   "codemirror_mode": {
    "name": "ipython",
    "version": 3
   },
   "file_extension": ".py",
   "mimetype": "text/x-python",
   "name": "python",
   "nbconvert_exporter": "python",
   "pygments_lexer": "ipython3",
   "version": "3.10.18"
  }
 },
 "nbformat": 4,
 "nbformat_minor": 5
}
